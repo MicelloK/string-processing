{
 "cells": [
  {
   "attachments": {},
   "cell_type": "markdown",
   "metadata": {},
   "source": [
    "1. Przyjmij następujący zbiór danych wejściowych:\n",
    "    1. bbb$\n",
    "    2. aabbabd,\n",
    "    3. ababcď\n",
    "    4. abaababaabaabaabab$\n",
    "    5. losowy tekst o długości 100 znaków,\n",
    "    6. załączony plik.\n",
    "2. Upewnij się, że każdy łańcuch na końcu posiada unikalny znak (marker), a jeśli go nie ma, to dodaj ten znak.\n",
    "3. Zaimplementuj algorytm konstruujący strukturę trie, która przechowuje wszystkie sufiksy łańcucha danego na wejściu.\n",
    "4. Zaimplementuj algorytm konstruujący drzewo sufiksów.\n",
    "5. Upewnij się, że powstałe struktury danych są poprawne. Możesz np. sprawdzić, czy struktura zawiera jakiś ciąg znaków i porównać wyniki z algorytmem\n",
    "szukiwania wzorców.\n",
    "6. Porównaj szybkość działania algorytmów konstruujących struktury danych dla danych z p. 1 w następujących wariantach:\n",
    "    1. Trie - w wariancie, w którym kolejne sufiksy dodawane są przez przeszukiwanie głowy od korzenia drzewa (lp.)/\n",
    "    2. Trie - w wariancie, w którym kolejne sufiksy dodawane są poprzez dodanie kolejnej litery tekstu (lp.)\n",
    "    3. Drzewo sufiksów - algorytm Ukkonena (3p).\n",
    "7. Dla załączonego tekstu czas wariantów 1 i 2 może być nieakceptowalnie długi - w tej sytuacji pomiń wniki pomiarów dla tego tekstu\n",
    "8. Oczekiwany wynik ćwiczenia to kod źródłowy oraz raport w formie PDF!\n"
   ]
  },
  {
   "cell_type": "code",
   "execution_count": 59,
   "metadata": {},
   "outputs": [],
   "source": [
    "from random import randint\n",
    "import time"
   ]
  },
  {
   "attachments": {},
   "cell_type": "markdown",
   "metadata": {},
   "source": [
    "1. Przyjmij następujący zbiór danych wejściowych:\n",
    "    1. bbb$\n",
    "    2. aabbabd,\n",
    "    3. ababcď\n",
    "    4. abaababaabaabaabab$\n",
    "    5. losowy tekst o długości 100 znaków,\n",
    "    6. załączony plik.\n",
    "2. Upewnij się, że każdy łańcuch na końcu posiada unikalny znak (marker), a jeśli go nie ma, to dodaj ten znak."
   ]
  },
  {
   "cell_type": "code",
   "execution_count": 53,
   "metadata": {},
   "outputs": [],
   "source": [
    "s1 = \"bbb$\"\n",
    "s2 = \"aabbabd$\"\n",
    "s3 = \"ababcd$\"\n",
    "s4 = \"abaababaabaabaabab$\"\n",
    "\n",
    "s5 = \"\".join([chr(randint(97, 122)) for i in range(100)])\n",
    "s5 += \"$\"\n",
    "\n",
    "with open(\"1997_714_head.txt\", \"r\") as f:\n",
    "    s6 = f.read()\n",
    "s6 += \"$\""
   ]
  },
  {
   "attachments": {},
   "cell_type": "markdown",
   "metadata": {},
   "source": [
    "3. Zaimplementuj algorytm konstruujący strukturę trie, która przechowuje wszystkie sufiksy łańcucha danego na wejściu."
   ]
  },
  {
   "cell_type": "code",
   "execution_count": 98,
   "metadata": {},
   "outputs": [],
   "source": [
    "class Node:\n",
    "    def __init__(self, parent) -> None:\n",
    "        self.parent = parent\n",
    "        self.children = dict()\n",
    "\n",
    "class Trie:\n",
    "    def __init__(self, text) -> None:\n",
    "        self.root = Node(None)\n",
    "        for i in range(len(text)):\n",
    "            self.add(text[i:], i)\n",
    "\n",
    "    def add(self, text, index):\n",
    "        node = self.root\n",
    "        for i in range(len(text)):\n",
    "            if text[i] not in node.children:\n",
    "                node.children[text[i]] = Node(node)\n",
    "            node = node.children[text[i]]\n",
    "        node.children[\"$\"] = index\n",
    "\n",
    "    def find(self, pattern):\n",
    "        node = self.root\n",
    "        index = 0\n",
    "        while index < len(pattern) and pattern[index] in node.children:\n",
    "            node = node.children[pattern[index]]\n",
    "            index += 1\n",
    "        return node, index\n",
    "    \n",
    "    def pattern_search(self, pattern):\n",
    "        if len(pattern) == 0:\n",
    "            return True\n",
    "        node, index = self.find(pattern)\n",
    "        return node.children != {} and index == len(pattern)\n",
    "\n",
    "class Trie2:\n",
    "    def __init__(self, text) -> None:\n",
    "        self.root = Node(None)\n",
    "        for i in range(len(text)):\n",
    "            self.add(text[i:])\n",
    "        \n",
    "    def add(self, text):\n",
    "        node = self.root\n",
    "        for i in range(len(text)):\n",
    "            if text[i] not in node.children:\n",
    "                node.children[text[i]] = Node(node)\n",
    "            node = node.children[text[i]]\n",
    "        node.children[\"$\"] = True\n",
    "    \n",
    "\n",
    "    def find(self, pattern):\n",
    "        node = self.root\n",
    "        index = 0\n",
    "        while index < len(pattern) and pattern[index] in node.children:\n",
    "            node = node.children[pattern[index]]\n",
    "            index += 1\n",
    "        return node, index\n",
    "    \n",
    "    def pattern_search(self, pattern):\n",
    "        if len(pattern) == 0:\n",
    "            return True\n",
    "        node, index = self.find(pattern)\n",
    "        return node.children != {} and index == len(pattern)"
   ]
  },
  {
   "attachments": {},
   "cell_type": "markdown",
   "metadata": {},
   "source": [
    "4. Zaimplementuj algorytm konstruujący drzewo sufiksów."
   ]
  },
  {
   "cell_type": "code",
   "execution_count": 55,
   "metadata": {},
   "outputs": [],
   "source": [
    "class SuffixNode:\n",
    "    def __init__(self, start, end) -> None:\n",
    "        self.start = start\n",
    "        self.end = end\n",
    "        self.children = dict()\n",
    "\n",
    "class SuffixTree:\n",
    "    def __init__(self, text) -> None:\n",
    "        self.root = SuffixNode(0, len(text) - 1)\n",
    "        self.text = text\n",
    "        for i in range(len(text) - 1):\n",
    "            head, depth = self.find(text[i:])\n",
    "            self.add(head, depth, i)\n",
    "\n",
    "    def add(self, node, depth, index):\n",
    "        new_node = SuffixNode(index + depth, len(self.text) - 1)\n",
    "        node.children[self.text[new_node.start]] = new_node\n",
    "\n",
    "\n",
    "    def find(self, text, depth=0, node=None):\n",
    "        if node is None:\n",
    "            node = self.root\n",
    "        next_node = node.children.get(text[0])\n",
    "        if next_node is None:\n",
    "            return node, depth\n",
    "\n",
    "        next_node_text_len = next_node.end - next_node.start + 1\n",
    "        for i in range(1, next_node_text_len):\n",
    "            if self.text[next_node.start + i] != text[i]:\n",
    "                stop_node = SuffixNode(next_node.start, next_node.start + i - 1)\n",
    "                next_node.start += i\n",
    "                node.children[self.text[stop_node.start]] = stop_node\n",
    "                stop_node.children[self.text[next_node.start]] = next_node\n",
    "                return stop_node, depth + i\n",
    "        return self.find(text[next_node_text_len:], next_node_text_len + depth, next_node)\n",
    "    \n",
    "    def pattern_search(self, pattern, node=None):\n",
    "        if len(pattern) == 0:\n",
    "            return True\n",
    "        if node is None:\n",
    "            node = self.root\n",
    "        next_node = node.children.get(pattern[0])\n",
    "        if next_node is None:\n",
    "            return False\n",
    "\n",
    "        next_node_text_len = next_node.end - next_node.start + 1\n",
    "        for i in range(1, next_node_text_len):\n",
    "            if i == len(pattern):\n",
    "                return True\n",
    "            elif self.text[next_node.start + i] != pattern[i]:\n",
    "                return False\n",
    "        return self.pattern_search(pattern[next_node_text_len:], next_node)"
   ]
  },
  {
   "attachments": {},
   "cell_type": "markdown",
   "metadata": {},
   "source": [
    "5. Upewnij się, że powstałe struktury danych są poprawne. Możesz np. sprawdzić, czy struktura zawiera jakiś ciąg znaków i porównać wyniki z algorytmem\n",
    "szukiwania wzorców."
   ]
  },
  {
   "cell_type": "code",
   "execution_count": 56,
   "metadata": {},
   "outputs": [
    {
     "name": "stdout",
     "output_type": "stream",
     "text": [
      "============= TRIE =============\n",
      "text 1: OK\n",
      "text 2: OK\n",
      "text 3: OK\n",
      "text 4: OK\n",
      "text 5: OK\n",
      "text 6: OK\n",
      "Found 0 errors\n",
      "\n",
      "========= SUFFIX TREE ==========\n",
      "text 1: OK\n",
      "text 2: OK\n",
      "text 3: OK\n",
      "text 4: OK\n",
      "text 5: OK\n",
      "text 6: OK\n",
      "Found 0 errors\n"
     ]
    }
   ],
   "source": [
    "texts = [s1, s2, s3, s4, s5, s6]\n",
    "\n",
    "test_patterns = [\"pietrusza\", \"maslo\", \"qwerty\", \"jjjj\", \"halapenia\", \"marchefka\"]\n",
    "\n",
    "errors = 0\n",
    "print(\"============= TRIE =============\")\n",
    "for i, text in enumerate(texts):\n",
    "    trie = Trie(text)\n",
    "    t_er = 0\n",
    "    for pattern in test_patterns:\n",
    "        if trie.pattern_search(pattern):\n",
    "            print(\"Error:\", text, pattern)\n",
    "            errors += 1\n",
    "            t_er += 1\n",
    "    if t_er == 0:\n",
    "        print(\"text \", i+1, \": OK\", sep=\"\")\n",
    "print(\"Found\", errors, \"errors\\n\")\n",
    "\n",
    "errors = 0\n",
    "print(\"========= SUFFIX TREE ==========\")\n",
    "for i, text in enumerate(texts):\n",
    "    suffix_tree = SuffixTree(text)\n",
    "    t_er = 0\n",
    "    for pattern in test_patterns:\n",
    "        if suffix_tree.pattern_search(pattern):\n",
    "            print(\"Error:\", text, pattern)\n",
    "            errors += 1\n",
    "            t_er += 1\n",
    "    if t_er == 0:\n",
    "        print(\"text \", i+1, \": OK\", sep=\"\")\n",
    "print(\"Found\", errors, \"errors\")"
   ]
  },
  {
   "cell_type": "code",
   "execution_count": 57,
   "metadata": {},
   "outputs": [
    {
     "name": "stdout",
     "output_type": "stream",
     "text": [
      "============= TRIE =============\n",
      "text 1, pattern 'bb':             True\n",
      "text 2, pattern 'aab':            True\n",
      "text 3, pattern 'abc':            True\n",
      "text 4, pattern 'aabaabaabab':    True\n",
      "text 6, pattern 'Dz.U. z':        True\n",
      "\n",
      "========= SUFFIX TREE ==========\n",
      "text 1, pattern 'bb':             True\n",
      "text 2, pattern 'aab':            True\n",
      "text 3, pattern 'abc':            True\n",
      "text 4, pattern 'aabaabaabab':    True\n",
      "text 6, pattern 'Dz.U. z':        True\n"
     ]
    }
   ],
   "source": [
    "print(\"============= TRIE =============\")\n",
    "print(\"text 1, pattern 'bb':            \", Trie(s1).pattern_search(\"bb\"))\n",
    "print(\"text 2, pattern 'aab':           \", Trie(s2).pattern_search(\"aab\"))\n",
    "print(\"text 3, pattern 'abc':           \", Trie(s3).pattern_search(\"abc\"))\n",
    "print(\"text 4, pattern 'aabaabaabab':   \", Trie(s4).pattern_search(\"aabaabaabab\"))\n",
    "print(\"text 6, pattern 'Dz.U. z':       \", Trie(s6).pattern_search(\"Dz.U. z\"))\n",
    "\n",
    "print(\"\\n========= SUFFIX TREE ==========\")\n",
    "print(\"text 1, pattern 'bb':            \", SuffixTree(s1).pattern_search(\"bb\"))\n",
    "print(\"text 2, pattern 'aab':           \", SuffixTree(s2).pattern_search(\"aab\"))\n",
    "print(\"text 3, pattern 'abc':           \", SuffixTree(s3).pattern_search(\"abc\"))\n",
    "print(\"text 4, pattern 'aabaabaabab':   \", SuffixTree(s4).pattern_search(\"aabaabaabab\"))\n",
    "print(\"text 6, pattern 'Dz.U. z':       \", SuffixTree(s6).pattern_search(\"Dz.U. z\"))"
   ]
  },
  {
   "attachments": {},
   "cell_type": "markdown",
   "metadata": {},
   "source": [
    "6. Porównaj szybkość działania algorytmów konstruujących struktury danych dla danych z p. 1 w następujących wariantach:\n",
    "    1. Trie - w wariancie, w którym kolejne sufiksy dodawane są przez przeszukiwanie głowy od korzenia drzewa (lp.)/\n",
    "    2. Trie - w wariancie, w którym kolejne sufiksy dodawane są poprzez dodanie kolejnej litery tekstu (lp.)\n",
    "    3. Drzewo sufiksów - algorytm Ukkonena (3p)."
   ]
  },
  {
   "cell_type": "code",
   "execution_count": 104,
   "metadata": {},
   "outputs": [],
   "source": [
    "def time_test(method, text, text_num, pattern):\n",
    "    start = time.perf_counter()\n",
    "    method(text).pattern_search(pattern)\n",
    "    end = time.perf_counter()\n",
    "    print(\"text\", text_num, \"pattern\", pattern, \"time:\", end - start)"
   ]
  },
  {
   "cell_type": "code",
   "execution_count": 105,
   "metadata": {},
   "outputs": [
    {
     "name": "stdout",
     "output_type": "stream",
     "text": [
      "\n",
      "============= TRIE =============\n",
      "text 1 pattern bb time: 3.619998460635543e-05\n",
      "text 2 pattern aab time: 4.229997284710407e-05\n",
      "text 3 pattern abc time: 3.060000017285347e-05\n",
      "text 4 pattern aabaabaabab time: 0.0002932000206783414\n",
      "text 6 pattern Dz.U. z time: 9.259265299944673\n",
      "\n",
      "============ TRIE2 =============\n",
      "text 1 pattern bb time: 1.4399993233382702e-05\n",
      "text 2 pattern aab time: 1.92999723367393e-05\n",
      "text 3 pattern abc time: 1.5900004655122757e-05\n",
      "text 4 pattern aabaabaabab time: 9.180000051856041e-05\n",
      "text 6 pattern Dz.U. z time: 10.634293699986301\n",
      "\n",
      "========= SUFFIX TREE ==========\n",
      "text 1 pattern bb time: 2.300000051036477e-05\n",
      "text 2 pattern aab time: 1.5700003132224083e-05\n",
      "text 3 pattern abc time: 1.1200027074664831e-05\n",
      "text 4 pattern aabaabaabab time: 4.829996032640338e-05\n",
      "text 6 pattern Dz.U. z time: 0.020694000006187707\n"
     ]
    }
   ],
   "source": [
    "print(\"\\n============= TRIE =============\")\n",
    "\n",
    "time_test(Trie, s1, 1, \"bb\")\n",
    "time_test(Trie, s2, 2, \"aab\")\n",
    "time_test(Trie, s3, 3, \"abc\")\n",
    "time_test(Trie, s4, 4, \"aabaabaabab\")\n",
    "time_test(Trie, s6, 6, \"Dz.U. z\")\n",
    "\n",
    "print(\"\\n============ TRIE2 =============\")\n",
    "\n",
    "time_test(Trie2, s1, 1, \"bb\")\n",
    "time_test(Trie2, s2, 2, \"aab\")\n",
    "time_test(Trie2, s3, 3, \"abc\")\n",
    "time_test(Trie2, s4, 4, \"aabaabaabab\")\n",
    "time_test(Trie2, s6, 6, \"Dz.U. z\")\n",
    "\n",
    "print(\"\\n========= SUFFIX TREE ==========\")\n",
    "\n",
    "time_test(SuffixTree, s1, 1, \"bb\")\n",
    "time_test(SuffixTree, s2, 2, \"aab\")\n",
    "time_test(SuffixTree, s3, 3, \"abc\")\n",
    "time_test(SuffixTree, s4, 4, \"aabaabaabab\")\n",
    "time_test(SuffixTree, s6, 6, \"Dz.U. z\")"
   ]
  },
  {
   "cell_type": "code",
   "execution_count": null,
   "metadata": {},
   "outputs": [],
   "source": []
  }
 ],
 "metadata": {
  "kernelspec": {
   "display_name": "Python 3",
   "language": "python",
   "name": "python3"
  },
  "language_info": {
   "codemirror_mode": {
    "name": "ipython",
    "version": 3
   },
   "file_extension": ".py",
   "mimetype": "text/x-python",
   "name": "python",
   "nbconvert_exporter": "python",
   "pygments_lexer": "ipython3",
   "version": "3.10.11"
  },
  "orig_nbformat": 4
 },
 "nbformat": 4,
 "nbformat_minor": 2
}
