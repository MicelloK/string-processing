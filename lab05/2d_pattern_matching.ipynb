{
 "cells": [
  {
   "attachments": {},
   "cell_type": "markdown",
   "metadata": {},
   "source": [
    "# 2D pattern matching"
   ]
  },
  {
   "attachments": {},
   "cell_type": "markdown",
   "metadata": {},
   "source": [
    "Zadanie dotyczy wyszukiwania wzorców dwuwymiarowych.\n",
    "\n",
    "1. Zaimplementuj algorytm wyszukiwania wzorca 2-wymiarowego \n",
    "2. Znajdź w załączonym pliku \"haystack.txt\" wszyskie sytuacje, gdy taka sama litera występuje na tej samej pozycji w dwóch kolejnych linijkach. Zwróć uwagę, na nierówną długość linii w pliku. \n",
    "3. Znajdź wszystkie wystąpienia \"th\" oraz \"t h\" w dwóch kolejnych liniach na tej samej pozycji. \n",
    "4. Wybierz przynajmniej 4 litery (małe). Znajdź wszystkie wystąpienia tej litery w załączonym pliku \"haystack.png\" \n",
    "5. Znajdź wszystkie wystąpienia słowa \"p a t t e r n\" w haystack.png. \n",
    "6. Porównaj czas budowania automatu i czas wyszukiwania dla różnych rozmiarów wzorca \n",
    "7. Podziel plik na 2, 4 i 8 fragmentów (w poziomie) i porównaj czas przeszukiwania \n",
    "\n",
    "Załączone pliki to fragmenty książki \"Jewels of Stringology\"."
   ]
  },
  {
   "cell_type": "code",
   "execution_count": 1,
   "metadata": {},
   "outputs": [],
   "source": [
    "from collections import deque\n",
    "from collections import defaultdict\n",
    "import random\n",
    "from PIL import Image\n",
    "from time import perf_counter"
   ]
  },
  {
   "cell_type": "code",
   "execution_count": 2,
   "metadata": {},
   "outputs": [],
   "source": [
    "class Node:\n",
    "    def __init__(self, letter=None, parent=None, terminal=False):\n",
    "        self.letter = letter\n",
    "        self.parent = parent\n",
    "        self.terminal = terminal\n",
    "        self.children = {}\n",
    "        self.suffix_link = None\n",
    "        self.dict_link = None\n",
    "        self.word = self._build_word()\n",
    "\n",
    "    def _build_word(self):\n",
    "        if self.parent is None:\n",
    "            return ''\n",
    "        else:\n",
    "            return self.parent.word + self.letter\n",
    "\n",
    "    def __repr__(self):\n",
    "        return self.word"
   ]
  },
  {
   "attachments": {},
   "cell_type": "markdown",
   "metadata": {},
   "source": [
    "### Ex 1"
   ]
  },
  {
   "cell_type": "code",
   "execution_count": 3,
   "metadata": {},
   "outputs": [],
   "source": [
    "class AhoCorasick:\n",
    "    def __init__(self, patterns):\n",
    "        self.root = Node()\n",
    "        self.pattern_idx = self.build_pattern_idx(patterns)\n",
    "        self.build_trie(patterns)\n",
    "        self.build_suffix_links()\n",
    "        self.build_dict_links()\n",
    "        self.search_time = None\n",
    "\n",
    "    def build_pattern_idx(self, patterns):\n",
    "        pattern_idx = defaultdict(list)\n",
    "        for idx, pattern in enumerate(patterns):\n",
    "            pattern_idx[pattern] = idx\n",
    "        return pattern_idx\n",
    "\n",
    "    def build_trie(self, patterns):\n",
    "        for pattern in patterns:\n",
    "            node = self.root\n",
    "            for idx, letter in enumerate(pattern):\n",
    "                terminal = (idx == len(pattern) - 1)\n",
    "                if letter in node.children:\n",
    "                    node = node.children[letter]\n",
    "                    if terminal:\n",
    "                        node.terminal = True\n",
    "                else:\n",
    "                    new_node = Node(letter, parent=node, terminal=terminal)\n",
    "                    node.children[letter] = new_node\n",
    "                    node = new_node\n",
    "\n",
    "    def build_suffix_links(self):\n",
    "        queue = deque()\n",
    "        queue.append(self.root)\n",
    "        while queue:\n",
    "            node = queue.popleft()\n",
    "            for letter, child in node.children.items():\n",
    "                queue.append(child)\n",
    "                if node == self.root:\n",
    "                    child.suffix_link = self.root\n",
    "                else:\n",
    "                    suffix = node.suffix_link\n",
    "                    while suffix is not None and letter not in suffix.children:\n",
    "                        suffix = suffix.suffix_link\n",
    "                    if suffix is None:\n",
    "                        child.suffix_link = self.root\n",
    "                    else:\n",
    "                        child.suffix_link = suffix.children[letter]\n",
    "\n",
    "    def build_dict_links(self):\n",
    "        queue = deque()\n",
    "        queue.append(self.root)\n",
    "        while queue:\n",
    "            node = queue.popleft()\n",
    "            for letter, child in node.children.items():\n",
    "                queue.append(child)\n",
    "                suffix = child.suffix_link\n",
    "                while suffix is not None and not suffix.terminal:\n",
    "                    suffix = suffix.suffix_link\n",
    "                if suffix is None:\n",
    "                    child.dict_link = self.root\n",
    "                else:\n",
    "                    child.dict_link = suffix\n",
    "\n",
    "    def search(self, text):\n",
    "        node = self.root\n",
    "        result = []\n",
    "        result_idx = ['#' for _ in range(len(text))]\n",
    "        for idx, letter in enumerate(text):\n",
    "            while node is not None and letter not in node.children:\n",
    "                node = node.suffix_link\n",
    "            if node is None:\n",
    "                node = self.root\n",
    "            else:\n",
    "                node = node.children[letter]\n",
    "            if node is None:\n",
    "                node = self.root\n",
    "            else:\n",
    "                temp = node\n",
    "                while temp is not None:\n",
    "                    if temp.terminal:\n",
    "                        result.append((idx - len(temp.word) + 1, temp.word))\n",
    "                        result_idx[idx - len(temp.word) + 1] = self.pattern_idx[temp.word]\n",
    "                    temp = temp.dict_link\n",
    "        # result_idx = ''.join([str(idx) for idx in result_idx])\n",
    "        return (result, result_idx)"
   ]
  },
  {
   "cell_type": "code",
   "execution_count": 4,
   "metadata": {},
   "outputs": [],
   "source": [
    "def align_text(text, splited=True):\n",
    "    if not splited:\n",
    "        lines = text.split('\\n')\n",
    "    else:\n",
    "        lines = text\n",
    "    max_length = max(len(line) for line in lines)\n",
    "    aligned_lines = [line.ljust(max_length) for line in lines]\n",
    "    return aligned_lines\n",
    "\n",
    "def split_columns(matrix):\n",
    "    result = []\n",
    "    splited = [list(column) for column in zip(*matrix)]\n",
    "    for column in splited:\n",
    "        result.append(''.join(column))\n",
    "    return result\n",
    "        "
   ]
  },
  {
   "cell_type": "code",
   "execution_count": 5,
   "metadata": {},
   "outputs": [],
   "source": [
    "def pattern_matching_2d(text, pattern, splited=True, time=False):\n",
    "    if time:\n",
    "        start = perf_counter()\n",
    "    # przygotowanie patternu\n",
    "    pattern = split_columns(align_text(pattern))\n",
    "    ac_vertical = AhoCorasick(pattern)\n",
    "    if time:\n",
    "        end = perf_counter()\n",
    "        ac_ver_time = end - start\n",
    "        start = perf_counter()\n",
    "    # pattern do znalezienia poziomo\n",
    "    horizontal_pattern = \"\"\n",
    "    for column in pattern:\n",
    "        horizontal_pattern += str(ac_vertical.pattern_idx[column])\n",
    "    \n",
    "    # # przygotowanie tekstu\n",
    "    text = split_columns(align_text(text, splited=splited))\n",
    "    result = []\n",
    "    for line in text:\n",
    "        _, res = ac_vertical.search(line)\n",
    "        result.append(res)\n",
    "    \n",
    "    # w tym szukamy poziomo\n",
    "    transposed = [[] for _ in range(len(result[0]))]\n",
    "    for line in result:\n",
    "        for idx, element in enumerate(line):\n",
    "            transposed[idx].append(element)\n",
    "\n",
    "    temp = []\n",
    "    for line in transposed:\n",
    "        temp.append(''.join([str(element) for element in line]))\n",
    "    transposed = '\\n'.join(temp)\n",
    "\n",
    "    ac_horizontal = AhoCorasick([horizontal_pattern])\n",
    "    result = []\n",
    "    for idx, line in enumerate(transposed.split('\\n')):\n",
    "        res, _ = ac_horizontal.search(line)\n",
    "        for found in res:\n",
    "            result.append((idx, found[0]))\n",
    "    if time:\n",
    "        end = perf_counter()\n",
    "        return ac_ver_time, end - start, result\n",
    "    return result\n"
   ]
  },
  {
   "attachments": {},
   "cell_type": "markdown",
   "metadata": {},
   "source": [
    "### Ex 2"
   ]
  },
  {
   "cell_type": "code",
   "execution_count": 6,
   "metadata": {},
   "outputs": [],
   "source": [
    "with open('haystack.txt', 'r') as f:\n",
    "    text = f.read()"
   ]
  },
  {
   "cell_type": "code",
   "execution_count": 7,
   "metadata": {},
   "outputs": [
    {
     "name": "stdout",
     "output_type": "stream",
     "text": [
      "PATTERN:  ['a', 'a']\n",
      "NUMBER:  0\n",
      "[]\n",
      "--------------------------------\n",
      "PATTERN:  ['b', 'b']\n",
      "NUMBER:  0\n",
      "[]\n",
      "--------------------------------\n",
      "PATTERN:  ['c', 'c']\n",
      "NUMBER:  9\n",
      "[(529, 0), (1051, 0), (2169, 0), (3353, 0), (3374, 0), (3486, 0), (5155, 0), (6179, 0), (6252, 0)]\n",
      "--------------------------------\n",
      "PATTERN:  ['d', 'd']\n",
      "NUMBER:  0\n",
      "[]\n",
      "--------------------------------\n",
      "PATTERN:  ['e', 'e']\n",
      "NUMBER:  5\n",
      "[(2156, 0), (4750, 0), (5769, 0), (5981, 0), (6091, 0)]\n",
      "--------------------------------\n",
      "PATTERN:  ['f', 'f']\n",
      "NUMBER:  8\n",
      "[(2035, 0), (2632, 0), (3696, 0), (3799, 0), (3999, 0), (4729, 0), (5844, 0), (6063, 0)]\n",
      "--------------------------------\n",
      "PATTERN:  ['g', 'g']\n",
      "NUMBER:  0\n",
      "[]\n",
      "--------------------------------\n",
      "PATTERN:  ['h', 'h']\n",
      "NUMBER:  0\n",
      "[]\n",
      "--------------------------------\n",
      "PATTERN:  ['i', 'i']\n",
      "NUMBER:  0\n",
      "[]\n",
      "--------------------------------\n",
      "PATTERN:  ['j', 'j']\n",
      "NUMBER:  0\n",
      "[]\n",
      "--------------------------------\n",
      "PATTERN:  ['k', 'k']\n",
      "NUMBER:  0\n",
      "[]\n",
      "--------------------------------\n",
      "PATTERN:  ['l', 'l']\n",
      "NUMBER:  23\n",
      "[(249, 0), (391, 0), (494, 0), (1013, 0), (1391, 0), (1608, 0), (1645, 0), (2592, 0), (2950, 0), (2993, 0), (3010, 0), (3049, 0), (3197, 0), (3259, 0), (3497, 0), (3579, 0), (4724, 0), (4905, 0), (5017, 0), (5216, 0), (5589, 0), (5839, 0), (5979, 0)]\n",
      "--------------------------------\n",
      "PATTERN:  ['m', 'm']\n",
      "NUMBER:  4\n",
      "[(615, 0), (2569, 0), (3039, 0), (4704, 0)]\n",
      "--------------------------------\n",
      "PATTERN:  ['n', 'n']\n",
      "NUMBER:  6\n",
      "[(4174, 0), (4335, 0), (4559, 0), (4931, 0), (5170, 0), (5210, 0)]\n",
      "--------------------------------\n",
      "PATTERN:  ['o', 'o']\n",
      "NUMBER:  8\n",
      "[(455, 0), (2256, 0), (3432, 0), (3520, 0), (3823, 0), (3866, 0), (4940, 0), (5631, 0)]\n",
      "--------------------------------\n",
      "PATTERN:  ['p', 'p']\n",
      "NUMBER:  12\n",
      "[(1182, 0), (2721, 0), (3137, 0), (3272, 0), (3978, 0), (4834, 0), (4954, 0), (5703, 0), (5803, 0), (5821, 0), (5917, 0), (6164, 0)]\n",
      "--------------------------------\n",
      "PATTERN:  ['q', 'q']\n",
      "NUMBER:  0\n",
      "[]\n",
      "--------------------------------\n",
      "PATTERN:  ['r', 'r']\n",
      "NUMBER:  9\n",
      "[(1910, 0), (3227, 0), (3534, 0), (3805, 0), (4792, 0), (4972, 0), (5148, 0), (5158, 0), (5317, 0)]\n",
      "--------------------------------\n",
      "PATTERN:  ['s', 's']\n",
      "NUMBER:  19\n",
      "[(300, 0), (400, 0), (580, 0), (656, 0), (1054, 0), (1374, 0), (2172, 0), (2544, 0), (3318, 0), (3356, 0), (3377, 0), (3401, 0), (3489, 0), (5238, 0), (5402, 0), (5469, 0), (5617, 0), (6182, 0), (6255, 0)]\n",
      "--------------------------------\n",
      "PATTERN:  ['t', 't']\n",
      "NUMBER:  6\n",
      "[(92, 0), (177, 0), (1020, 0), (1654, 0), (2075, 0), (5522, 0)]\n",
      "--------------------------------\n",
      "PATTERN:  ['u', 'u']\n",
      "NUMBER:  0\n",
      "[]\n",
      "--------------------------------\n",
      "PATTERN:  ['v', 'v']\n",
      "NUMBER:  0\n",
      "[]\n",
      "--------------------------------\n",
      "PATTERN:  ['w', 'w']\n",
      "NUMBER:  0\n",
      "[]\n",
      "--------------------------------\n",
      "PATTERN:  ['x', 'x']\n",
      "NUMBER:  0\n",
      "[]\n",
      "--------------------------------\n",
      "PATTERN:  ['y', 'y']\n",
      "NUMBER:  0\n",
      "[]\n",
      "--------------------------------\n",
      "PATTERN:  ['z', 'z']\n",
      "NUMBER:  0\n",
      "[]\n",
      "--------------------------------\n"
     ]
    }
   ],
   "source": [
    "alphabet = 'abcdefghijklmnopqrstuvwxyz'\n",
    "\n",
    "for letter in alphabet:\n",
    "    pattern = [letter, letter]\n",
    "    result = pattern_matching_2d(text, pattern)\n",
    "    print(\"PATTERN: \", pattern)\n",
    "    print(\"NUMBER: \", len(result))\n",
    "    print(result)\n",
    "    print(\"--------------------------------\")\n"
   ]
  },
  {
   "attachments": {},
   "cell_type": "markdown",
   "metadata": {},
   "source": [
    "### Ex 3"
   ]
  },
  {
   "cell_type": "code",
   "execution_count": 8,
   "metadata": {},
   "outputs": [
    {
     "name": "stdout",
     "output_type": "stream",
     "text": [
      "PATTERN:  ['th', 'th']\n",
      "NUMBER:  0\n",
      "[]\n",
      "--------------------------------\n",
      "PATTERN:  ['t h', 't h']\n",
      "NUMBER:  0\n",
      "[]\n",
      "--------------------------------\n"
     ]
    }
   ],
   "source": [
    "patterns = [[\"th\", \"th\"], [\"t h\", \"t h\"]]\n",
    "\n",
    "for pattern in patterns:\n",
    "    result = pattern_matching_2d(text, pattern)\n",
    "    print(\"PATTERN: \", pattern)\n",
    "    print(\"NUMBER: \", len(result))\n",
    "    print(result)\n",
    "    print(\"--------------------------------\")"
   ]
  },
  {
   "attachments": {},
   "cell_type": "markdown",
   "metadata": {},
   "source": [
    "### Ex 4"
   ]
  },
  {
   "cell_type": "code",
   "execution_count": 9,
   "metadata": {},
   "outputs": [],
   "source": [
    "def image_to_matrix(file_name):\n",
    "    '''\n",
    "    nie jestem dumny z tej funkcji :c\n",
    "    '''\n",
    "    image = Image.open(file_name)\n",
    "    pixels = list(image.getdata())\n",
    "    width, height = image.size\n",
    "    text = []\n",
    "    i = width\n",
    "    for pixel in pixels:\n",
    "        if i == width:\n",
    "            i = 0\n",
    "            text.append([])\n",
    "\n",
    "        # wyrównanie do 3 znaków\n",
    "        if pixel[0] < 10:\n",
    "            pixel_val = '00' + str(pixel[0])\n",
    "        elif pixel[0] < 100:\n",
    "            pixel_val = '0' + str(pixel[0])\n",
    "        else:\n",
    "            pixel_val = str(pixel[0])\n",
    "\n",
    "        text[-1].append(pixel_val)\n",
    "        i += 1\n",
    "    result = []\n",
    "    for line in text:\n",
    "        line = ''.join(line)\n",
    "        result.append(line)\n",
    "    return result"
   ]
  },
  {
   "cell_type": "code",
   "execution_count": 10,
   "metadata": {},
   "outputs": [],
   "source": [
    "a_img = image_to_matrix('img/a.png')\n",
    "m_img = image_to_matrix('img/m.png')\n",
    "p_img = image_to_matrix('img/p.png')\n",
    "s_img = image_to_matrix('img/s.png')\n",
    "haystack_img = image_to_matrix('haystack.png')\n",
    "\n",
    "haystack_img = '\\n'.join(haystack_img)"
   ]
  },
  {
   "cell_type": "code",
   "execution_count": 11,
   "metadata": {},
   "outputs": [
    {
     "name": "stdout",
     "output_type": "stream",
     "text": [
      "PATTERN: a\n",
      "NUMBER:  356\n",
      "[(36, 834), (36, 1085), (36, 1373), (36, 2012), (36, 2516), (36, 3029), (58, 1226), (58, 1379), (58, 1636), (58, 2677), (58, 2946), (80, 716), (80, 839), (80, 1612), (80, 2279), (80, 2396), (102, 272), (102, 490), (102, 1204), (124, 1125), (124, 1345), (124, 2445), (146, 540), (146, 693), (146, 1071), (146, 1500), (146, 2243), (146, 2567), (168, 284), (168, 455), (168, 892), (168, 1424), (168, 2187), (168, 2357), (168, 2477), (168, 2965), (190, 351), (190, 1022), (190, 1596), (190, 2274), (190, 2453), (190, 2694), (212, 1712), (212, 2104), (234, 501), (234, 1895), (234, 2373), (256, 426), (256, 1756), (278, 289), (278, 580), (278, 1178), (278, 1964), (278, 2373), (300, 189), (322, 434), (322, 776), (322, 1787), (322, 2041), (322, 2345), (344, 430), (344, 893), (344, 1110), (344, 1668), (344, 2336), (366, 150), (366, 1007), (366, 1130), (366, 2415), (366, 2626), (388, 507), (388, 991), (388, 1545), (388, 2875), (410, 150), (432, 979), (432, 1135), (432, 2021), (432, 2387), (432, 2669), (454, 362), (454, 547), (454, 1017), (454, 1522), (454, 1885), (476, 150), (476, 397), (476, 742), (476, 909), (476, 1393), (476, 2377), (476, 2985), (498, 363), (498, 726), (498, 1824), (498, 2897), (498, 3112), (520, 302), (520, 642), (520, 860), (520, 991), (520, 1885), (542, 250), (542, 562), (542, 1184), (542, 1640), (542, 2322), (542, 2973), (564, 150), (564, 696), (564, 1155), (564, 1855), (564, 2061), (564, 2604), (586, 660), (586, 1116), (586, 1722), (586, 2144), (586, 2333), (586, 3135), (630, 465), (630, 1128), (630, 1760), (630, 2405), (652, 284), (652, 925), (652, 1218), (652, 1691), (652, 2200), (652, 2621), (674, 150), (674, 405), (674, 1563), (674, 2547), (696, 404), (696, 1874), (696, 2530), (696, 2687), (718, 1055), (718, 1859), (718, 2599), (740, 878), (740, 1909), (740, 2215), (740, 2739), (762, 1363), (762, 2326), (762, 2730), (762, 3018), (784, 172), (784, 351), (784, 1822), (784, 2001), (784, 2202), (784, 2450), (784, 2617), (806, 437), (806, 876), (806, 2453), (828, 1144), (828, 1329), (828, 1638), (828, 2378), (850, 284), (850, 1026), (872, 284), (872, 1523), (872, 2580), (894, 443), (894, 929), (916, 920), (938, 352), (938, 1898), (938, 2051), (960, 734), (960, 925), (960, 1607), (960, 2829), (982, 2276), (982, 2461), (1004, 214), (1004, 1671), (1004, 2636), (1026, 677), (1026, 1419), (1026, 1724), (1048, 186), (1048, 777), (1048, 930), (1048, 1848), (1048, 2232), (1048, 2450), (1070, 1151), (1070, 1304), (1070, 2160), (1070, 2645), (1092, 409), (1092, 1823), (1114, 1836), (1114, 2760), (1114, 3182), (1114, 3539), (1136, 382), (1136, 535), (1136, 890), (1158, 670), (1180, 233), (1180, 582), (1180, 681), (1180, 780), (1180, 991), (1180, 1474), (1180, 2585), (1202, 558), (1202, 1205), (1202, 1641), (1202, 1852), (1202, 2231), (1224, 588), (1224, 1415), (1224, 1703), (1224, 1878), (1224, 2057), (1224, 2467), (1224, 2666), (1224, 2819), (1224, 3115), (1246, 1008), (1246, 1192), (1246, 1515), (1268, 346), (1268, 583), (1268, 905), (1268, 2301), (1290, 500), (1290, 757), (1290, 1507), (1290, 1766), (1290, 1897), (1290, 2556), (1290, 2844), (1312, 214), (1312, 850), (1312, 1090), (1312, 1382), (1312, 1476), (1312, 1579), (1312, 1867), (1312, 2917), (1334, 239), (1334, 729), (1334, 991), (1334, 1400), (1334, 1605), (1334, 2343), (1356, 297), (1356, 649), (1356, 982), (1356, 1184), (1356, 2406), (1356, 2682), (1378, 150), (1378, 566), (1378, 1489), (1378, 2358), (1378, 2628), (1400, 551), (1400, 735), (1422, 150), (1422, 1449), (1444, 226), (1444, 636), (1444, 945), (1444, 2084), (1444, 2290), (1466, 242), (1466, 660), (1466, 957), (1466, 1174), (1466, 1450), (1466, 2040), (1466, 2349), (1488, 787), (1488, 1399), (1488, 2000), (1510, 418), (1510, 922), (1510, 1815), (1510, 1985), (1510, 2177), (1510, 2694), (1532, 271), (1532, 1432), (1554, 186), (1554, 421), (1554, 620), (1554, 1206), (1554, 1417), (1576, 1341), (1576, 1925), (1598, 722), (1598, 1297), (1598, 2058), (1620, 650), (1620, 1356), (1620, 2634), (1642, 186), (1642, 490), (1642, 1169), (1642, 1921), (1642, 2002), (1642, 2517), (1664, 341), (1664, 2593), (1686, 275), (1708, 606), (1708, 723), (1708, 914), (1708, 1605), (1708, 2725), (1730, 766), (1730, 922), (1730, 1146), (1730, 1227), (1730, 1434), (1730, 1604), (1730, 1812), (1730, 2101), (1730, 2292), (1730, 2530), (1730, 2806), (1752, 1245), (1752, 1568), (1752, 2004), (1752, 2228), (1752, 2309), (1774, 150), (1774, 341), (1774, 1661), (1774, 2090), (1774, 2297), (1796, 314), (1796, 776), (1796, 1263), (1796, 1487), (1796, 1568), (1796, 2502), (1796, 2728), (1818, 931), (1818, 1597), (1840, 902), (1840, 1625), (1840, 1983), (1862, 150), (1862, 347), (1862, 1540)]\n",
      "--------------------------------\n"
     ]
    }
   ],
   "source": [
    "print(\"PATTERN: a\")\n",
    "result = pattern_matching_2d(haystack_img, a_img, splited=False)\n",
    "print(\"NUMBER: \", len(result))\n",
    "print(result)\n",
    "print(\"--------------------------------\")"
   ]
  },
  {
   "cell_type": "code",
   "execution_count": 12,
   "metadata": {},
   "outputs": [
    {
     "name": "stdout",
     "output_type": "stream",
     "text": [
      "PATTERN: m\n",
      "NUMBER:  131\n",
      "[(37, 439), (37, 1501), (37, 2328), (103, 1887), (125, 790), (125, 1752), (147, 1116), (147, 2108), (169, 339), (169, 1259), (169, 1635), (191, 212), (191, 1608), (191, 1697), (213, 1551), (235, 150), (235, 1024), (235, 1729), (257, 420), (257, 992), (257, 1581), (279, 771), (323, 775), (323, 1746), (345, 627), (345, 1498), (345, 1620), (345, 1822), (345, 2155), (367, 696), (367, 1803), (389, 220), (389, 678), (389, 1123), (411, 213), (433, 625), (455, 1204), (477, 289), (477, 934), (477, 1427), (477, 1806), (499, 302), (499, 2113), (521, 1168), (543, 507), (543, 1738), (543, 1998), (565, 1340), (587, 2295), (653, 878), (653, 1200), (653, 1510), (653, 2197), (675, 2029), (697, 324), (719, 624), (741, 833), (741, 2075), (785, 1197), (785, 1286), (785, 1919), (807, 1131), (807, 1762), (807, 2151), (829, 1228), (851, 659), (851, 1884), (851, 2255), (873, 1943), (895, 249), (895, 495), (917, 174), (939, 141), (939, 230), (1005, 78), (1005, 2030), (1027, 78), (1027, 200), (1093, 249), (1093, 1304), (1137, 168), (1181, 801), (1181, 971), (1225, 138), (1247, 220), (1269, 188), (1291, 501), (1291, 1095), (1313, 326), (1313, 986), (1313, 2183), (1335, 460), (1335, 1320), (1379, 672), (1401, 1004), (1401, 1144), (1401, 1404), (1401, 1493), (1401, 2350), (1423, 572), (1445, 656), (1445, 1611), (1467, 105), (1467, 416), (1467, 1792), (1489, 475), (1511, 772), (1511, 1018), (1511, 2065), (1533, 1867), (1555, 832), (1555, 2251), (1577, 630), (1599, 1139), (1599, 1366), (1621, 422), (1621, 1570), (1621, 1918), (1643, 303), (1643, 1272), (1665, 186), (1709, 2064), (1731, 822), (1753, 1056), (1753, 1719), (1775, 727), (1797, 1093), (1819, 519), (1863, 1118), (1863, 1427), (1863, 1549)]\n",
      "--------------------------------\n"
     ]
    }
   ],
   "source": [
    "print(\"PATTERN: m\")\n",
    "result = pattern_matching_2d(haystack_img, m_img, splited=False)\n",
    "print(\"NUMBER: \", len(result))  \n",
    "print(result)\n",
    "print(\"--------------------------------\")"
   ]
  },
  {
   "cell_type": "code",
   "execution_count": 13,
   "metadata": {},
   "outputs": [
    {
     "name": "stdout",
     "output_type": "stream",
     "text": [
      "PATTERN: p\n",
      "NUMBER:  131\n",
      "[(37, 480), (37, 1145), (37, 1738), (59, 723), (103, 1399), (125, 78), (125, 943), (125, 2054), (147, 1193), (147, 1621), (191, 414), (191, 1390), (213, 419), (235, 1047), (257, 791), (257, 1613), (279, 1193), (323, 626), (323, 1545), (345, 2085), (367, 510), (367, 1403), (367, 1936), (367, 1989), (389, 1102), (411, 419), (433, 444), (477, 333), (477, 575), (477, 1200), (499, 1299), (521, 656), (543, 732), (543, 2015), (587, 437), (587, 1076), (631, 761), (653, 381), (653, 650), (653, 2134), (675, 804), (675, 1028), (675, 2102), (719, 1055), (719, 1393), (763, 105), (763, 450), (785, 342), (785, 1023), (807, 132), (807, 964), (807, 1731), (807, 2194), (829, 1030), (829, 1083), (851, 1913), (873, 915), (895, 78), (917, 228), (917, 1357), (939, 422), (939, 628), (939, 1296), (961, 551), (961, 604), (961, 1295), (961, 2036), (983, 216), (983, 569), (983, 1566), (983, 1987), (983, 2040), (1027, 1818), (1049, 78), (1071, 650), (1071, 1452), (1093, 99), (1093, 1135), (1115, 2019), (1159, 393), (1181, 843), (1203, 1245), (1203, 1298), (1225, 726), (1269, 899), (1269, 1152), (1291, 1302), (1291, 2267), (1335, 1355), (1335, 1591), (1357, 618), (1379, 1295), (1423, 609), (1445, 484), (1445, 537), (1445, 1022), (1445, 1848), (1445, 1919), (1467, 1244), (1467, 1569), (1467, 1622), (1467, 2257), (1489, 521), (1511, 210), (1511, 866), (1511, 1899), (1533, 1538), (1555, 650), (1555, 1943), (1621, 594), (1621, 1384), (1643, 78), (1643, 1060), (1709, 548), (1709, 601), (1709, 1070), (1731, 1092), (1731, 1145), (1731, 1660), (1731, 1713), (1753, 758), (1753, 1109), (1775, 111), (1775, 164), (1775, 603), (1797, 1359), (1797, 1906), (1819, 404), (1841, 453), (1841, 896), (1841, 949)]\n",
      "--------------------------------\n"
     ]
    }
   ],
   "source": [
    "print(\"PATTERN: p\")\n",
    "result = pattern_matching_2d(haystack_img, p_img, splited=False)\n",
    "print(\"NUMBER: \", len(result))\n",
    "print(result)\n",
    "print(\"--------------------------------\")"
   ]
  },
  {
   "cell_type": "code",
   "execution_count": 14,
   "metadata": {},
   "outputs": [
    {
     "name": "stdout",
     "output_type": "stream",
     "text": [
      "PATTERN: s\n",
      "NUMBER:  334\n",
      "[(37, 378), (37, 569), (37, 1201), (37, 1797), (37, 2093), (37, 2389), (59, 462), (59, 620), (59, 1093), (81, 564), (81, 806), (81, 1417), (81, 1860), (103, 93), (103, 785), (103, 1543), (103, 1584), (103, 1748), (103, 1822), (103, 1971), (125, 492), (125, 1328), (125, 1552), (125, 1626), (125, 1775), (125, 1867), (125, 2205), (125, 2246), (147, 243), (147, 1349), (147, 2005), (169, 774), (169, 1238), (169, 1819), (169, 1947), (191, 555), (191, 596), (191, 1201), (191, 2004), (213, 273), (213, 572), (213, 613), (213, 861), (213, 1619), (213, 1747), (213, 2010), (235, 432), (235, 701), (235, 1702), (235, 1776), (235, 1883), (257, 486), (257, 566), (257, 1015), (257, 1722), (279, 162), (279, 551), (279, 2038), (323, 297), (323, 914), (323, 1258), (323, 2064), (345, 111), (345, 434), (345, 475), (345, 1410), (345, 2198), (367, 183), (367, 473), (367, 805), (367, 1239), (367, 1703), (389, 78), (389, 152), (389, 943), (389, 1473), (389, 1532), (389, 1639), (389, 1803), (389, 2246), (411, 627), (433, 183), (433, 2099), (433, 2140), (455, 339), (455, 635), (455, 1882), (455, 2127), (455, 2201), (477, 1473), (477, 2078), (477, 2200), (499, 987), (499, 1148), (521, 246), (521, 1244), (521, 2134), (543, 1311), (565, 129), (565, 311), (565, 475), (565, 804), (565, 935), (565, 1591), (565, 1665), (565, 1790), (587, 276), (587, 1013), (631, 231), (631, 641), (631, 1093), (631, 1218), (631, 1505), (631, 1579), (631, 2184), (653, 576), (653, 1352), (653, 1774), (675, 760), (675, 1284), (675, 1325), (675, 1612), (697, 252), (697, 530), (697, 706), (697, 1191), (697, 1661), (719, 408), (719, 662), (719, 1015), (719, 1263), (719, 1574), (719, 2344), (741, 843), (763, 78), (763, 686), (763, 1129), (763, 1452), (763, 1526), (785, 492), (785, 533), (785, 898), (785, 1653), (785, 1817), (807, 219), (807, 515), (829, 648), (829, 938), (829, 1768), (851, 684), (851, 944), (851, 1843), (873, 636), (873, 1007), (873, 1549), (873, 1746), (873, 1805), (873, 2087), (917, 132), (917, 374), (917, 817), (917, 891), (917, 1028), (917, 1333), (917, 1776), (939, 384), (939, 719), (939, 1015), (939, 1176), (939, 1778), (961, 291), (961, 887), (983, 246), (983, 809), (983, 1282), (983, 1491), (983, 1844), (1005, 642), (1005, 701), (1005, 1129), (1005, 1170), (1005, 1718), (1005, 2200), (1005, 2241), (1027, 627), (1027, 668), (1027, 991), (1027, 1065), (1027, 1304), (1027, 1345), (1049, 165), (1049, 260), (1049, 682), (1049, 987), (1049, 1235), (1049, 1516), (1049, 1557), (1049, 1631), (1071, 402), (1071, 599), (1071, 1054), (1071, 1308), (1071, 1508), (1071, 1972), (1093, 186), (1093, 941), (1093, 1324), (1093, 1863), (1115, 78), (1115, 233), (1115, 487), (1115, 564), (1115, 920), (1115, 2137), (1137, 417), (1137, 734), (1181, 633), (1181, 1562), (1181, 1654), (1181, 1908), (1203, 642), (1203, 995), (1203, 1516), (1225, 78), (1225, 410), (1225, 859), (1225, 933), (1225, 1619), (1225, 1696), (1225, 1884), (1247, 78), (1247, 152), (1247, 301), (1247, 684), (1269, 351), (1269, 608), (1269, 1333), (1269, 1425), (1291, 165), (1291, 1211), (1313, 78), (1313, 407), (1313, 1972), (1335, 1078), (1335, 1635), (1357, 93), (1379, 741), (1379, 851), (1379, 2218), (1401, 252), (1401, 497), (1401, 1837), (1401, 1962), (1423, 735), (1445, 333), (1445, 407), (1445, 1498), (1467, 78), (1467, 341), (1467, 553), (1467, 792), (1467, 1475), (1489, 291), (1489, 365), (1489, 982), (1489, 1818), (1511, 162), (1511, 377), (1511, 439), (1511, 1143), (1533, 393), (1533, 650), (1533, 1060), (1533, 1422), (1533, 1880), (1533, 2134), (1555, 906), (1555, 947), (1555, 1769), (1555, 2227), (1577, 960), (1577, 1220), (1577, 1936), (1599, 729), (1599, 1013), (1599, 1054), (1599, 1215), (1599, 1274), (1599, 1606), (1599, 2040), (1621, 732), (1621, 773), (1621, 928), (1621, 1968), (1643, 1269), (1643, 1571), (1665, 78), (1665, 353), (1665, 619), (1665, 726), (1665, 830), (1665, 871), (1665, 1131), (1687, 213), (1687, 473), (1709, 1086), (1709, 1628), (1709, 1702), (1709, 2172), (1731, 255), (1731, 539), (1731, 1243), (1731, 1848), (1753, 411), (1753, 470), (1753, 622), (1775, 765), (1775, 1166), (1797, 324), (1797, 791), (1797, 1444), (1797, 1782), (1797, 1856), (1819, 639), (1841, 198), (1841, 554), (1841, 835), (1841, 1050), (1841, 1406), (1841, 1447), (1863, 309), (1863, 830), (1863, 1312), (1863, 1353)]\n",
      "--------------------------------\n"
     ]
    }
   ],
   "source": [
    "print(\"PATTERN: s\")\n",
    "result = pattern_matching_2d(haystack_img, s_img, splited=False)\n",
    "print(\"NUMBER: \", len(result))\n",
    "print(result)\n",
    "print(\"--------------------------------\")"
   ]
  },
  {
   "attachments": {},
   "cell_type": "markdown",
   "metadata": {},
   "source": [
    "### Ex 5"
   ]
  },
  {
   "cell_type": "code",
   "execution_count": 15,
   "metadata": {},
   "outputs": [
    {
     "name": "stdout",
     "output_type": "stream",
     "text": [
      "PATTERN: p a t t e r n\n",
      "NUMBER:  5\n",
      "[(475, 1350), (497, 2850), (541, 1897), (585, 1104), (629, 1673)]\n",
      "--------------------------------\n"
     ]
    }
   ],
   "source": [
    "pattern_img = image_to_matrix('img/pattern.png')\n",
    "\n",
    "print(\"PATTERN: p a t t e r n\")\n",
    "result = pattern_matching_2d(haystack_img, pattern_img, splited=False)\n",
    "print(\"NUMBER: \", len(result))\n",
    "print(result)\n",
    "print(\"--------------------------------\")"
   ]
  },
  {
   "attachments": {},
   "cell_type": "markdown",
   "metadata": {},
   "source": [
    "### Ex 6"
   ]
  },
  {
   "cell_type": "code",
   "execution_count": 16,
   "metadata": {},
   "outputs": [],
   "source": [
    "def time_test(text, pattern):\n",
    "    ac_time, se_time, _ = pattern_matching_2d(text, pattern, time=True)\n",
    "    print(\"Build automaton\", ac_time)\n",
    "    print(\"Pattern matching\", se_time)"
   ]
  },
  {
   "cell_type": "code",
   "execution_count": 17,
   "metadata": {},
   "outputs": [],
   "source": [
    "with open('haystack.txt', 'r') as f:\n",
    "    text = f.read()\n",
    "\n",
    "text = align_text(text, splited=False)\n",
    "n = min(len(text), len(text[0]))"
   ]
  },
  {
   "cell_type": "code",
   "execution_count": 18,
   "metadata": {},
   "outputs": [],
   "source": [
    "sizes = [1, 5, 10, 20, 50, 80]\n",
    "patterns = []\n",
    "\n",
    "for size in sizes:\n",
    "    pattern = []\n",
    "    i, j = random.randint(0, n - size- 1), random.randint(0, n - size - 1)\n",
    "    pattern = text[i:i+size][j:j+size]\n",
    "    for i in range(i, i + size):\n",
    "        pattern.append(text[i][j:j+size])\n",
    "    patterns.append(pattern)"
   ]
  },
  {
   "cell_type": "code",
   "execution_count": 19,
   "metadata": {},
   "outputs": [
    {
     "name": "stdout",
     "output_type": "stream",
     "text": [
      "SIZE:  1\n",
      "Build automaton 3.619998460635543e-05\n",
      "Pattern matching 0.006125600019004196\n",
      "--------------------------------\n",
      "SIZE:  5\n",
      "Build automaton 0.00010900001507252455\n",
      "Pattern matching 0.006620300002396107\n",
      "--------------------------------\n",
      "SIZE:  10\n",
      "Build automaton 0.000271500030066818\n",
      "Pattern matching 0.006362599960993975\n",
      "--------------------------------\n",
      "SIZE:  20\n",
      "Build automaton 0.000846999988425523\n",
      "Pattern matching 0.008028200012631714\n",
      "--------------------------------\n",
      "SIZE:  50\n",
      "Build automaton 0.025040100037585944\n",
      "Pattern matching 0.006980100006330758\n",
      "--------------------------------\n",
      "SIZE:  80\n",
      "Build automaton 0.04483930004062131\n",
      "Pattern matching 0.006491499952971935\n",
      "--------------------------------\n"
     ]
    }
   ],
   "source": [
    "for idx, pattern in enumerate(patterns):\n",
    "    print(\"SIZE: \", sizes[idx])\n",
    "    time_test(text, pattern)\n",
    "    print(\"--------------------------------\")"
   ]
  },
  {
   "attachments": {},
   "cell_type": "markdown",
   "metadata": {},
   "source": [
    "### Ex 7"
   ]
  },
  {
   "cell_type": "code",
   "execution_count": 20,
   "metadata": {},
   "outputs": [],
   "source": [
    "def div_time_test(text, pattern):\n",
    "    result = []\n",
    "    for div in [2, 4, 8]:\n",
    "        length = len(text) // div\n",
    "        intervals = [text[i * length:(i + 1) * length] for i in range(div)]\n",
    "        start = perf_counter()\n",
    "        for i in intervals:\n",
    "            pattern_matching_2d(i, pattern)\n",
    "        end = perf_counter()\n",
    "        print(\"Div\", div, \"\\nTime\", end - start)"
   ]
  },
  {
   "cell_type": "code",
   "execution_count": 21,
   "metadata": {},
   "outputs": [
    {
     "name": "stdout",
     "output_type": "stream",
     "text": [
      "Div 2 \n",
      "Time 0.005861399986315519\n",
      "Div 4 \n",
      "Time 0.0077729999902658165\n",
      "Div 8 \n",
      "Time 0.006117100012488663\n"
     ]
    }
   ],
   "source": [
    "div_time_test(text, patterns[0])"
   ]
  }
 ],
 "metadata": {
  "kernelspec": {
   "display_name": "Python 3",
   "language": "python",
   "name": "python3"
  },
  "language_info": {
   "codemirror_mode": {
    "name": "ipython",
    "version": 3
   },
   "file_extension": ".py",
   "mimetype": "text/x-python",
   "name": "python",
   "nbconvert_exporter": "python",
   "pygments_lexer": "ipython3",
   "version": "3.10.11"
  },
  "orig_nbformat": 4
 },
 "nbformat": 4,
 "nbformat_minor": 2
}
