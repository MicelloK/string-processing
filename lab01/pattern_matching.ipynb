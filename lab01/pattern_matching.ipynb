{
 "cells": [
  {
   "attachments": {},
   "cell_type": "markdown",
   "metadata": {},
   "source": [
    "# Dopasowanie wzorca do tekstu"
   ]
  },
  {
   "attachments": {},
   "cell_type": "markdown",
   "metadata": {},
   "source": [
    "Zaimplementuj w Pythonie algorytmy wyszukiwania wzorców:\n",
    "- naiwny\n",
    "- automat skończony\n",
    "- algorytm KMP"
   ]
  },
  {
   "cell_type": "code",
   "execution_count": 1,
   "metadata": {},
   "outputs": [],
   "source": [
    "def naive_matching(pattern, text, _=[]) -> list[int]:\n",
    "    result = []\n",
    "    for s in range(len(text) - len(pattern) + 1):\n",
    "        if pattern == text[s:s+len(pattern)]:\n",
    "            result.append(s)\n",
    "    return result\n",
    "\n",
    "# get_slice długości k - O(k) -> https://wiki.python.org/moin/TimeComplexity#list\n",
    "# bardziej wydajne niz porównywanie w pętli \n",
    "# złożoność O((n-m)*m)/O(nm)"
   ]
  },
  {
   "cell_type": "code",
   "execution_count": 2,
   "metadata": {},
   "outputs": [],
   "source": [
    "def finit_state_matching(pattern, text, pre=[]) -> list[int]:\n",
    "    if len(pre) == 0:\n",
    "        alphabet = {l for l in text + pattern}\n",
    "        delta = build_delta(pattern, alphabet)\n",
    "    else:\n",
    "        delta = pre\n",
    "        \n",
    "    result = []\n",
    "    m = len(pattern)\n",
    "    q = 0\n",
    "    for i in range(len(text)):\n",
    "        q = delta[q][text[i]]\n",
    "        if q == m:\n",
    "            result.append(i - q + 1)\n",
    "    return result\n",
    "\n",
    "def build_delta(pattern, alphabet):\n",
    "    delta = []\n",
    "    for q in range(len(pattern) + 1):\n",
    "        delta.append({})\n",
    "        for letter in alphabet:\n",
    "            k = q + 1\n",
    "            while k > 0 and pattern[:k] != (pattern[:q] + letter)[-k:]:\n",
    "                k = k - 1\n",
    "            delta[q][letter] = k\n",
    "    return delta\n",
    "\n",
    "# złożoność finit_state_matching O(n) + tworzenie macierzy przejścia\n",
    "# moim zdaniem duża złożoność budowania macierzy przejścia - O(m^3*len(alfabet))\n",
    "# ale jeśli alfabet i wzorzec są krótkie, to mamy złożoność całości praktycznie liniową"
   ]
  },
  {
   "cell_type": "code",
   "execution_count": 3,
   "metadata": {},
   "outputs": [],
   "source": [
    "def kmp_matching(pattern, text, pre=[]) -> list[int]:\n",
    "    if len(pre) == 0:\n",
    "        prefixes = build_prefixes(pattern)\n",
    "    else:\n",
    "        prefixes = pre\n",
    "        \n",
    "    result = []\n",
    "    q = 0\n",
    "    for i in range(len(text)):\n",
    "        while q > 0 and pattern[q] != text[i]:\n",
    "            q = prefixes[q-1]\n",
    "        if pattern[q] == text[i]:\n",
    "            q += 1\n",
    "        if q == len(pattern):\n",
    "            result.append(i - q + 1)\n",
    "            q = prefixes[q-1]\n",
    "    return result\n",
    "\n",
    "def build_prefixes(pattern):\n",
    "    pi = [0]\n",
    "    k = 0\n",
    "    for q in range(1, len(pattern)):\n",
    "        while k > 0 and pattern[k] != pattern[q]:\n",
    "            k = pi[k-1]\n",
    "        if pattern[k]  == pattern[q]:\n",
    "            k += 1\n",
    "        pi.append(k)\n",
    "    return pi\n",
    "\n",
    "# złożoność build_prefixes - O(m) bo ta pętla while jest ograniczona podobno :o\n",
    "# w sumie fajny ten algorytm\n",
    "# złożoność kmp - O(m) na tej samej zasadzie"
   ]
  },
  {
   "attachments": {},
   "cell_type": "markdown",
   "metadata": {},
   "source": [
    "Zaimplementuj testy porównujące szybkość działania wyżej wymienionych algorytmów, z rozbiciem na czasu pre-processingu oraz czas wyszukiwania wzorca w tekście (1p)."
   ]
  },
  {
   "cell_type": "code",
   "execution_count": 4,
   "metadata": {},
   "outputs": [],
   "source": [
    "import time\n",
    "\n",
    "def pattern_matching_test(func, pattern, text, preprocessing=True, print_res=True):\n",
    "    if print_res:\n",
    "        print(f'Testing: {func.__name__}...')\n",
    "    pre_data = []\n",
    "    pre_time = None\n",
    "    if preprocessing:\n",
    "        if func.__name__ == \"naive_matching\":\n",
    "            start = time.time()\n",
    "            end = time.time()\n",
    "        elif func.__name__ == \"finit_state_matching\":\n",
    "            start = time.time()\n",
    "            alphabet = {l for l in text + pattern}\n",
    "            pre_data = build_delta(pattern, alphabet)\n",
    "            end = time.time()\n",
    "        elif func.__name__ == \"kmp_matching\":\n",
    "            start = time.time()\n",
    "            pre_data = build_prefixes(pattern)\n",
    "            end = time.time()\n",
    "        else:\n",
    "            raise(\"Unknown function!\")\n",
    "\n",
    "        pre_time = end - start\n",
    "        if print_res: \n",
    "            print(\"   PREPROCESSING:\", pre_time)\n",
    "\n",
    "    start = time.time()\n",
    "    func(pattern, text, pre_data)\n",
    "    end = time.time()\n",
    "    if print_res:\n",
    "        print(\"   OPERATION TIME:\", end - start)\n",
    "        print(\"   FUNCTION OUTPUT:\", func(pattern, text, pre_data))\n",
    "    return (pre_time, end - start) # (preprocessing_time, matching_time)"
   ]
  },
  {
   "cell_type": "code",
   "execution_count": 5,
   "metadata": {},
   "outputs": [
    {
     "name": "stdout",
     "output_type": "stream",
     "text": [
      "Testing: naive_matching...\n",
      "   PREPROCESSING: 0.0\n",
      "   OPERATION TIME: 0.0\n",
      "   FUNCTION OUTPUT: [8]\n",
      "Testing: finit_state_matching...\n",
      "   PREPROCESSING: 0.0010085105895996094\n",
      "   OPERATION TIME: 0.0\n",
      "   FUNCTION OUTPUT: [8]\n",
      "Testing: kmp_matching...\n",
      "   PREPROCESSING: 0.0\n",
      "   OPERATION TIME: 0.0\n",
      "   FUNCTION OUTPUT: [8]\n",
      "end\n"
     ]
    }
   ],
   "source": [
    "p = \"bgjfjdkhgkjfdhasdljkfhabahjkfd\"\n",
    "t = \"ababadfabgjfjdkhgkjfdhasdljkfhabahjkfdsjlkjh\"\n",
    "\n",
    "pattern_matching_test(naive_matching, p, t)\n",
    "pattern_matching_test(finit_state_matching, p, t)\n",
    "pattern_matching_test(kmp_matching, p, t)\n",
    "print(\"end\")"
   ]
  },
  {
   "attachments": {},
   "cell_type": "markdown",
   "metadata": {},
   "source": [
    "Znajdź wszystkie wystąpienia wzorców \"pan\" oraz \"pani\" w załączonym pliku, za pomocą każdego algorytmu. \n",
    "\n",
    "W raporcie zamieść liczbę dopasowań każdego ze wzorców osobno dla każdego algorytmu. Upewnij się, że każdy algorytm zwraca taką samą liczbę dopasowań (1p)."
   ]
  },
  {
   "cell_type": "code",
   "execution_count": 6,
   "metadata": {},
   "outputs": [
    {
     "name": "stdout",
     "output_type": "stream",
     "text": [
      "NAIVE_MATCHING:\n",
      "{350232, 49183, 428069, 192552, 288811, 98356, 49217, 249921, 102472, 151625, 288844, 22610, 348242, 411742, 385137, 59506, 106615, 424056, 338047, 129, 276629, 182422, 53408, 411810, 161955, 354470, 407724, 192687, 2227, 362685, 192702, 301253, 39114, 389331, 413911, 274652, 422112, 65761, 104676, 424165, 16616, 188648, 389360, 342257, 8189, 323827, 289018, 94460, 254205, 53503, 243967, 246016, 397567, 153859, 53510, 268552, 37133, 356622, 254224, 305424, 203027, 170262, 268570, 57629, 200989, 252190, 411935, 35105, 397611, 426287, 14647, 47418, 102730, 201035, 346445, 270672, 293202, 80212, 389462, 82265, 53596, 49509, 18797, 389485, 115063, 59769, 10618, 16774, 201096, 407945, 137616, 53654, 55739, 205250, 53702, 192978, 307666, 53728, 55784, 20973, 57838, 57846, 88567, 143862, 309759, 217600, 201225, 57867, 203278, 381464, 33305, 234010, 145947, 88612, 244260, 338477, 391729, 250434, 186960, 53843, 100950, 307801, 51808, 152160, 98915, 39525, 33394, 219762, 199289, 209532, 55936, 201353, 55950, 66198, 250524, 152228, 391848, 15017, 182957, 88750, 115378, 201394, 277179, 25279, 240326, 234192, 74450, 305881, 15066, 80604, 187100, 74464, 27375, 391919, 131826, 56052, 410360, 137980, 195327, 250634, 183051, 56079, 35612, 185119, 289575, 31529, 310057, 410412, 416558, 408368, 391986, 15155, 82743, 426814, 291647, 402251, 115538, 47957, 330584, 35674, 392032, 7013, 310118, 74600, 338792, 127853, 203632, 269173, 357238, 404342, 164732, 185214, 15237, 304007, 56205, 392088, 254879, 109474, 267171, 7077, 365481, 330673, 445369, 390078, 431039, 240576, 392130, 74691, 54213, 443333, 48081, 60372, 152549, 386021, 416744, 429035, 416760, 9210, 302075, 429057, 60420, 74758, 109584, 234514, 35868, 304165, 384041, 427056, 195635, 113725, 343103, 425026, 218185, 42058, 99410, 414807, 87136, 392291, 162920, 119915, 425067, 410740, 87158, 107640, 308350, 418954, 210075, 64680, 48297, 390319, 392375, 87225, 9418, 427215, 99541, 19670, 56535, 173269, 74974, 269537, 1254, 218349, 136436, 189684, 210164, 414965, 308472, 222465, 300292, 382213, 210183, 25866, 171277, 308508, 234782, 392479, 36129, 113954, 52522, 111915, 423214, 101679, 390447, 89400, 415039, 255299, 410947, 402757, 249161, 200017, 382290, 70996, 249176, 402776, 50532, 392552, 220522, 15724, 165236, 32126, 343458, 87460, 89508, 443812, 38321, 42426, 251324, 392639, 89536, 52712, 136681, 52719, 69111, 445960, 187922, 9748, 386580, 267801, 52768, 7713, 194082, 304677, 42534, 392750, 204337, 190004, 95808, 52823, 378466, 124524, 278127, 226928, 290417, 251508, 249461, 71292, 296578, 366218, 52878, 48788, 104088, 34461, 429741, 34478, 302769, 34487, 52928, 286405, 52938, 48847, 57041, 325329, 429783, 306910, 59104, 200425, 382697, 413434, 30467, 263939, 354051, 292619, 167693, 251671, 292638, 325418, 229167, 7995, 321355, 247635, 227174, 345970, 233342, 87935, 300937, 393100, 30608, 18326, 427930, 51105, 382884, 346031, 36785, 411581, 294848, 57287, 90060, 427982, 276434, 57304, 407515, 444381, 382945, 192482, 8167, 395245, 288751, 116720, 387055, 139256, 346109}\n",
      "Sum: 401 \n",
      "\n",
      "FINIT_STATE_MATCHING:\n",
      "{350232, 49183, 428069, 192552, 288811, 98356, 49217, 249921, 102472, 151625, 288844, 22610, 348242, 411742, 385137, 59506, 106615, 424056, 338047, 129, 276629, 182422, 53408, 411810, 161955, 354470, 407724, 192687, 2227, 362685, 192702, 301253, 39114, 389331, 413911, 274652, 422112, 65761, 104676, 424165, 16616, 188648, 389360, 342257, 8189, 323827, 289018, 94460, 254205, 53503, 243967, 246016, 397567, 153859, 53510, 268552, 37133, 356622, 254224, 305424, 203027, 170262, 268570, 57629, 200989, 252190, 411935, 35105, 397611, 426287, 14647, 47418, 102730, 201035, 346445, 270672, 293202, 80212, 389462, 82265, 53596, 49509, 18797, 389485, 115063, 59769, 10618, 16774, 201096, 407945, 137616, 53654, 55739, 205250, 53702, 192978, 307666, 53728, 55784, 20973, 57838, 57846, 88567, 143862, 309759, 217600, 201225, 57867, 203278, 381464, 33305, 234010, 145947, 88612, 244260, 338477, 391729, 250434, 186960, 53843, 100950, 307801, 51808, 152160, 98915, 39525, 33394, 219762, 199289, 209532, 55936, 201353, 55950, 66198, 250524, 152228, 391848, 15017, 182957, 88750, 115378, 201394, 277179, 25279, 240326, 234192, 74450, 305881, 15066, 80604, 187100, 74464, 27375, 391919, 131826, 56052, 410360, 137980, 195327, 250634, 183051, 56079, 35612, 185119, 289575, 31529, 310057, 410412, 416558, 408368, 391986, 15155, 82743, 426814, 291647, 402251, 115538, 47957, 330584, 35674, 392032, 7013, 310118, 74600, 338792, 127853, 203632, 269173, 357238, 404342, 164732, 185214, 15237, 304007, 56205, 392088, 254879, 109474, 267171, 7077, 365481, 330673, 445369, 390078, 431039, 240576, 392130, 74691, 54213, 443333, 48081, 60372, 152549, 386021, 416744, 429035, 416760, 9210, 302075, 429057, 60420, 74758, 109584, 234514, 35868, 304165, 384041, 427056, 195635, 113725, 343103, 425026, 218185, 42058, 99410, 414807, 87136, 392291, 162920, 119915, 425067, 410740, 87158, 107640, 308350, 418954, 210075, 64680, 48297, 390319, 392375, 87225, 9418, 427215, 99541, 19670, 56535, 173269, 74974, 269537, 1254, 218349, 136436, 189684, 210164, 414965, 308472, 222465, 300292, 382213, 210183, 25866, 171277, 308508, 234782, 392479, 36129, 113954, 52522, 111915, 423214, 101679, 390447, 89400, 415039, 255299, 410947, 402757, 249161, 200017, 382290, 70996, 249176, 402776, 50532, 392552, 220522, 15724, 165236, 32126, 343458, 87460, 89508, 443812, 38321, 42426, 251324, 392639, 89536, 52712, 136681, 52719, 69111, 445960, 187922, 9748, 386580, 267801, 52768, 7713, 194082, 304677, 42534, 392750, 204337, 190004, 95808, 52823, 378466, 124524, 278127, 226928, 290417, 251508, 249461, 71292, 296578, 366218, 52878, 48788, 104088, 34461, 429741, 34478, 302769, 34487, 52928, 286405, 52938, 48847, 57041, 325329, 429783, 306910, 59104, 200425, 382697, 413434, 30467, 263939, 354051, 292619, 167693, 251671, 292638, 325418, 229167, 7995, 321355, 247635, 227174, 345970, 233342, 87935, 300937, 393100, 30608, 18326, 427930, 51105, 382884, 346031, 36785, 411581, 294848, 57287, 90060, 427982, 276434, 57304, 407515, 444381, 382945, 192482, 8167, 395245, 288751, 116720, 387055, 139256, 346109}\n",
      "Sum: 401 \n",
      "\n",
      "KMP_MATCHING:\n",
      "{350232, 49183, 428069, 192552, 288811, 98356, 49217, 249921, 102472, 151625, 288844, 22610, 348242, 411742, 385137, 59506, 106615, 424056, 338047, 129, 276629, 182422, 53408, 411810, 161955, 354470, 407724, 192687, 2227, 362685, 192702, 301253, 39114, 389331, 413911, 274652, 422112, 65761, 104676, 424165, 16616, 188648, 389360, 342257, 8189, 323827, 289018, 94460, 254205, 53503, 243967, 246016, 397567, 153859, 53510, 268552, 37133, 356622, 254224, 305424, 203027, 170262, 268570, 57629, 200989, 252190, 411935, 35105, 397611, 426287, 14647, 47418, 102730, 201035, 346445, 270672, 293202, 80212, 389462, 82265, 53596, 49509, 18797, 389485, 115063, 59769, 10618, 16774, 201096, 407945, 137616, 53654, 55739, 205250, 53702, 192978, 307666, 53728, 55784, 20973, 57838, 57846, 88567, 143862, 309759, 217600, 201225, 57867, 203278, 381464, 33305, 234010, 145947, 88612, 244260, 338477, 391729, 250434, 186960, 53843, 100950, 307801, 51808, 152160, 98915, 39525, 33394, 219762, 199289, 209532, 55936, 201353, 55950, 66198, 250524, 152228, 391848, 15017, 182957, 88750, 115378, 201394, 277179, 25279, 240326, 234192, 74450, 305881, 15066, 80604, 187100, 74464, 27375, 391919, 131826, 56052, 410360, 137980, 195327, 250634, 183051, 56079, 35612, 185119, 289575, 31529, 310057, 410412, 416558, 408368, 391986, 15155, 82743, 426814, 291647, 402251, 115538, 47957, 330584, 35674, 392032, 7013, 310118, 74600, 338792, 127853, 203632, 269173, 357238, 404342, 164732, 185214, 15237, 304007, 56205, 392088, 254879, 109474, 267171, 7077, 365481, 330673, 445369, 390078, 431039, 240576, 392130, 74691, 54213, 443333, 48081, 60372, 152549, 386021, 416744, 429035, 416760, 9210, 302075, 429057, 60420, 74758, 109584, 234514, 35868, 304165, 384041, 427056, 195635, 113725, 343103, 425026, 218185, 42058, 99410, 414807, 87136, 392291, 162920, 119915, 425067, 410740, 87158, 107640, 308350, 418954, 210075, 64680, 48297, 390319, 392375, 87225, 9418, 427215, 99541, 19670, 56535, 173269, 74974, 269537, 1254, 218349, 136436, 189684, 210164, 414965, 308472, 222465, 300292, 382213, 210183, 25866, 171277, 308508, 234782, 392479, 36129, 113954, 52522, 111915, 423214, 101679, 390447, 89400, 415039, 255299, 410947, 402757, 249161, 200017, 382290, 70996, 249176, 402776, 50532, 392552, 220522, 15724, 165236, 32126, 343458, 87460, 89508, 443812, 38321, 42426, 251324, 392639, 89536, 52712, 136681, 52719, 69111, 445960, 187922, 9748, 386580, 267801, 52768, 7713, 194082, 304677, 42534, 392750, 204337, 190004, 95808, 52823, 378466, 124524, 278127, 226928, 290417, 251508, 249461, 71292, 296578, 366218, 52878, 48788, 104088, 34461, 429741, 34478, 302769, 34487, 52928, 286405, 52938, 48847, 57041, 325329, 429783, 306910, 59104, 200425, 382697, 413434, 30467, 263939, 354051, 292619, 167693, 251671, 292638, 325418, 229167, 7995, 321355, 247635, 227174, 345970, 233342, 87935, 300937, 393100, 30608, 18326, 427930, 51105, 382884, 346031, 36785, 411581, 294848, 57287, 90060, 427982, 276434, 57304, 407515, 444381, 382945, 192482, 8167, 395245, 288751, 116720, 387055, 139256, 346109}\n",
      "Sum: 401 \n",
      "\n",
      "CONSISTENT VALUES?: True\n"
     ]
    }
   ],
   "source": [
    "def process_file(file, func):\n",
    "    file = open(file, 'r', encoding='utf-8')\n",
    "    text = file.read()\n",
    "    result = func(pattern1, text) + func(pattern2, text)\n",
    "    return set(result)\n",
    "\n",
    "pattern1 = \"pan\"\n",
    "pattern2 = \"pani\"\n",
    "\n",
    "funcs = [naive_matching, finit_state_matching, kmp_matching]\n",
    "result = {}\n",
    "for func in funcs:\n",
    "    result[func.__name__] = process_file(\"pan-tadeusz.txt\", func)\n",
    "    print(f\"{func.__name__.upper()}:\")\n",
    "    print(result[func.__name__])\n",
    "    print(\"Sum:\", len(result[func.__name__]), \"\\n\")\n",
    "\n",
    "print(\"CONSISTENT VALUES?:\", result[\"naive_matching\"] == result[\"finit_state_matching\"] == result[\"kmp_matching\"])"
   ]
  },
  {
   "attachments": {},
   "cell_type": "markdown",
   "metadata": {},
   "source": [
    "Porównaj szybkość działania algorytmów dla problemu z p. 3, z uwzględnieniem czasu pre-processingu oraz czasu dopasowania. \n",
    "\n",
    "Pomiar czasu powinien być przeprowadzony co najmniej 5-krotnie i przedstawione w formie tabeli oraz wykresu, uwzględniającego czas minimalny, maksymalny oraz średni czas (1p)."
   ]
  },
  {
   "cell_type": "code",
   "execution_count": 7,
   "metadata": {},
   "outputs": [],
   "source": [
    "funcs = [naive_matching, finit_state_matching, kmp_matching]\n",
    "result = {\n",
    "    \"naive_matching\" : [],\n",
    "    \"finit_state_matching\" : [],\n",
    "    \"kmp_matching\" : []\n",
    "}\n",
    "\n",
    "pattern1 = \"pan\"\n",
    "pattern2 = \"pani\"\n",
    "\n",
    "file = open(\"pan-tadeusz.txt\", 'r', encoding='utf-8')\n",
    "text = file.read()\n",
    "\n",
    "for func in funcs:\n",
    "    for _ in range(5):\n",
    "        time1 = pattern_matching_test(func, pattern1, text, print_res=False)\n",
    "        time2 = pattern_matching_test(func, pattern2, text, print_res=False)\n",
    "\n",
    "        result[func.__name__].append((time1[0] + time2[0], time1[1] + time2[1]))"
   ]
  },
  {
   "cell_type": "code",
   "execution_count": 8,
   "metadata": {},
   "outputs": [
    {
     "name": "stdout",
     "output_type": "stream",
     "text": [
      "Function             | Preprocessing time   | Matching time       | Real time          \n",
      "---------------------------------------------------------------------------------------\n",
      "naive_matching       | 0.0                  | 0.15935111045837402 | 0.15935111045837402\n",
      "naive_matching       | 0.0                  | 0.14942097663879395 | 0.14942097663879395\n",
      "naive_matching       | 0.0                  | 0.15161442756652832 | 0.15161442756652832\n",
      "naive_matching       | 0.0                  | 0.16672587394714355 | 0.16672587394714355\n",
      "naive_matching       | 0.0                  | 0.17978382110595703 | 0.17978382110595703\n",
      "finit_state_matching | 0.02394580841064453  | 0.07762694358825684 | 0.10157275199890137\n",
      "finit_state_matching | 0.018465518951416016 | 0.07454800605773926 | 0.09301352500915527\n",
      "finit_state_matching | 0.022137165069580078 | 0.0749058723449707  | 0.09704303741455078\n",
      "finit_state_matching | 0.019496917724609375 | 0.08264470100402832 | 0.1021416187286377 \n",
      "finit_state_matching | 0.019509553909301758 | 0.07081246376037598 | 0.09032201766967773\n",
      "kmp_matching         | 0.0                  | 0.11446738243103027 | 0.11446738243103027\n",
      "kmp_matching         | 0.0                  | 0.11894845962524414 | 0.11894845962524414\n",
      "kmp_matching         | 0.0                  | 0.1265120506286621  | 0.1265120506286621 \n",
      "kmp_matching         | 0.0                  | 0.12371182441711426 | 0.12371182441711426\n",
      "kmp_matching         | 0.0                  | 0.11710667610168457 | 0.11710667610168457\n"
     ]
    }
   ],
   "source": [
    "# tabela\n",
    "\n",
    "data = []\n",
    "for key in result.keys():\n",
    "    for record in result[key]:\n",
    "        data.append([key, record[0], record[1], record[0] + record[1]])\n",
    "        \n",
    "col_lengths = [max(len(str(x)) for x in col) for col in zip(*data)]\n",
    "\n",
    "headers = [\"Function\", \"Preprocessing time\", \"Matching time\", \"Real time\"]\n",
    "header_row = \" | \".join('{:<{}}'.format(h, col_lengths[i]) for i, h in enumerate(headers))\n",
    "\n",
    "separator = '-' * len(header_row)\n",
    "\n",
    "data_rows = []\n",
    "for row in data:\n",
    "    data_rows.append(' | '.join('{:<{}}'.format(str(r), col_lengths[i]) for i, r in enumerate(row)))\n",
    "\n",
    "table = \"\\n\".join([header_row, separator] + data_rows)\n",
    "print(table)"
   ]
  },
  {
   "cell_type": "code",
   "execution_count": 9,
   "metadata": {},
   "outputs": [
    {
     "data": {
      "image/png": "[encoded data removed]",
      "text/plain": [
       "<Figure size 1000x600 with 1 Axes>"
      ]
     },
     "metadata": {},
     "output_type": "display_data"
    },
    {
     "data": {
      "image/png": "[encoded data removed]",
      "text/plain": [
       "<Figure size 1000x600 with 1 Axes>"
      ]
     },
     "metadata": {},
     "output_type": "display_data"
    },
    {
     "data": {
      "image/png": "[encoded data removed]",
      "text/plain": [
       "<Figure size 1000x600 with 1 Axes>"
      ]
     },
     "metadata": {},
     "output_type": "display_data"
    }
   ],
   "source": [
    "# wykres\n",
    "\n",
    "import matplotlib.pyplot as plt\n",
    "import numpy as np\n",
    "\n",
    "names = [\"naive\", \"finit_state\", \"kmp\"]\n",
    "\n",
    "funcs = [naive_matching, finit_state_matching, kmp_matching]\n",
    "pre_times = {}\n",
    "match_times = {}\n",
    "real_times = {}\n",
    "\n",
    "for func in funcs:\n",
    "    times = [x[0] for x in result[func.__name__]]\n",
    "    pre_times[func.__name__] = (sum(times)/len(times), min(times), max(times))\n",
    "    times = [x[1] for x in result[func.__name__]]\n",
    "    match_times[func.__name__] = (sum(times)/len(times), min(times), max(times))\n",
    "    times = [x[0] + x[1] for x in result[func.__name__]]\n",
    "    real_times[func.__name__] = (sum(times)/len(times), min(times), max(times))\n",
    "\n",
    "for name, data in {\"Preprocessing times\" : pre_times, \"Matching times\" : match_times, \"Real times\" : real_times}.items():\n",
    "    fig = plt.figure(figsize=(10, 6))\n",
    "    MIN = []\n",
    "    MAX = []\n",
    "    MEAN = []\n",
    "    for func in funcs:\n",
    "        MIN.append(data[func.__name__][1])\n",
    "        MAX.append(data[func.__name__][2])\n",
    "        MEAN.append(data[func.__name__][0])\n",
    "\n",
    "    bar_width = 0.20\n",
    "    ind = np.arange(len(MIN))\n",
    "\n",
    "    br1 = np.arange(len(MIN))\n",
    "    br2 = [x + bar_width for x in br1]\n",
    "    br3 = [x + bar_width for x in br2]\n",
    "\n",
    "    plt.bar(br1, MIN, color ='grey', width = bar_width,\n",
    "        edgecolor ='white', label ='min')\n",
    "    plt.bar(br2, MEAN, color ='red', width = bar_width,\n",
    "            edgecolor ='white', label ='mean')\n",
    "    plt.bar(br3, MAX, color ='grey', width = bar_width,\n",
    "            edgecolor ='white', label ='max')\n",
    "    \n",
    "    plt.title(name)\n",
    "    plt.xticks([r + bar_width for r in range(len(MIN))], names)\n",
    "    plt.legend()\n",
    "    plt.show()\n"
   ]
  },
  {
   "attachments": {},
   "cell_type": "markdown",
   "metadata": {},
   "source": [
    "Zaproponuj tekst oraz wzorzec, dla którego zmierzony czas działania algorytmów 2 oraz 3 (uwzględniający tylko dopasowanie, bez pre-processingu) będzie co najmniej 5-krotnie krótszy niż dla algorytmu naiwnego. \n",
    "\n",
    "Uruchom każdy algorytm na zadanym wzorcu i tekście, w celu sprawdzenia, czy zmierzony czas jest faktycznie co najmniej 5-krotnie krótszy (1p)."
   ]
  },
  {
   "cell_type": "code",
   "execution_count": 17,
   "metadata": {},
   "outputs": [
    {
     "name": "stdout",
     "output_type": "stream",
     "text": [
      "NAIVE: 22.2615647315979\n",
      "FINIT_STATE: 0.5462710857391357 0.6782498359680176\n",
      "KMP: 0.014113903045654297 1.3242805004119873\n",
      "5 times shorter?: True\n"
     ]
    }
   ],
   "source": [
    "text = \"aaaa\" * 1000000\n",
    "pattern = \"a\" * 100000\n",
    "\n",
    "naive = pattern_matching_test(naive_matching, pattern, text, print_res=False)\n",
    "finit_state = pattern_matching_test(finit_state_matching, pattern, text, print_res=False)\n",
    "kmp = pattern_matching_test(kmp_matching, pattern, text, print_res=False)\n",
    "\n",
    "print(\"NAIVE:\", naive[1])\n",
    "print(\"FINIT_STATE:\",finit_state[0], finit_state[1])\n",
    "print(\"KMP:\",kmp[0], kmp[1])\n",
    "\n",
    "print(\"5 times shorter?:\", naive[1] / finit_state[1] >= 5 and naive[1] / kmp[1] >= 5)"
   ]
  },
  {
   "attachments": {},
   "cell_type": "markdown",
   "metadata": {},
   "source": [
    "Przedstaw wnioski wynikające z przeprowadzonych eksperymentów, ze szczególnym uwzględnieniem praktycznych konsekwencji wynikających z różnic pomiędzy zaimplementowanymi algorytmami (1p)."
   ]
  },
  {
   "attachments": {},
   "cell_type": "markdown",
   "metadata": {},
   "source": [
    "# Wnioski:\n",
    "- W ramach testów przeprowadzonych podczas zadania, wszystkie algorytmy zwróciły takie same wyniki. Pozwala nam to przypuszczać, że zostały poprawnie zaimplementowane.\n",
    "- Najwolniejszy okazał się algorytm naiwny. Nie wymagał preprocessingu, ale czas działania rósł wprostproporcjonalnie do tekstu (n). Dla dłużych tekstów szybkość działania tego algorytmu może okazać się nieakceptowalna.\n",
    "- Algorytm automatu skończonego okazałsię znacznie szybszy niż algorytm naiwny, ale wymagał czasochłonnego preprocessingu. Czas preprocessingu rośnie proporcjonalny do długości wzorca (m^3*len(alph)).\n",
    "W przypadku długich wzorcó może to stanowić poważny problem :c.\n",
    "- Algorytm KMP okazał się najszybszym spośród testowanej trójki. Podobnie jak algorytm automatu skończonego wymagał preprocessingu, ale czas złożoność budowania danych pomocniczych była zdecydowanie lepsza (m). Samo dopasowanie było jednak wolniejsze niż w algorytmie automatów skończonych.\n",
    "- Z przeprowadzonych eksperymentów wynika, że algorytmy automatu skończonego i KMP są zdecydowanie lepszą opcją niż stosowanie algorytmu naiwnego. Wybór algorytmu będzie zależał od konkretnych wymagań i wielkości danych wejściowych."
   ]
  }
 ],
 "metadata": {
  "kernelspec": {
   "display_name": "Python 3",
   "language": "python",
   "name": "python3"
  },
  "language_info": {
   "codemirror_mode": {
    "name": "ipython",
    "version": 3
   },
   "file_extension": ".py",
   "mimetype": "text/x-python",
   "name": "python",
   "nbconvert_exporter": "python",
   "pygments_lexer": "ipython3",
   "version": "3.10.10"
  },
  "orig_nbformat": 4
 },
 "nbformat": 4,
 "nbformat_minor": 2
}
