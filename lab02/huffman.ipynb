{
 "cells": [
  {
   "attachments": {},
   "cell_type": "markdown",
   "metadata": {},
   "source": [
    "# Kompresja danych - kodowanie Huffmana"
   ]
  },
  {
   "attachments": {},
   "cell_type": "markdown",
   "metadata": {},
   "source": [
    "Zadanie polega na implementacji dwóch algorytmów kompresji:\n",
    "1. statycznego algorytmu Huffmana (2 p)\n",
    "2. dynamicznego algorytmu Huffmana (3 p)"
   ]
  },
  {
   "cell_type": "code",
   "execution_count": 2,
   "metadata": {},
   "outputs": [],
   "source": [
    "from heapq import heapify, heappop, heappush\n",
    "from bitarray import bitarray\n",
    "import random\n",
    "import os\n",
    "import pandas as pd\n",
    "from time import time"
   ]
  },
  {
   "cell_type": "code",
   "execution_count": 3,
   "metadata": {},
   "outputs": [],
   "source": [
    "class Node:\n",
    "    def __init__(self, freq, letter=None, left=None, right=None, parent=None) -> None:\n",
    "        self.freq = freq\n",
    "        self.letter = letter\n",
    "        self.left = left\n",
    "        self.right = right\n",
    "\n",
    "    def __lt__(self, other):\n",
    "        return self.freq < other.freq\n",
    "    \n",
    "    def is_leaf(self):\n",
    "        return self.letter is not None\n",
    "        "
   ]
  },
  {
   "attachments": {},
   "cell_type": "markdown",
   "metadata": {},
   "source": [
    "### Static"
   ]
  },
  {
   "cell_type": "code",
   "execution_count": 15,
   "metadata": {},
   "outputs": [],
   "source": [
    "def count_letters(text):\n",
    "    letter_freq = {}\n",
    "    for letter in text:\n",
    "        if letter in letter_freq:\n",
    "            letter_freq[letter] += 1\n",
    "        else:\n",
    "            letter_freq[letter] = 1\n",
    "    return letter_freq\n",
    "\n",
    "def build_tree(text, preproessing=True):\n",
    "    if preproessing:\n",
    "        letter_freq = count_letters(text)\n",
    "    else:\n",
    "        letter_freq = text\n",
    "        \n",
    "    nodes = [Node(freq, letter) for letter, freq in letter_freq.items()]\n",
    "    heapify(nodes)\n",
    "\n",
    "    while len(nodes) > 1:\n",
    "        left = heappop(nodes)\n",
    "        right = heappop(nodes)\n",
    "        heappush(nodes, Node(left.freq + right.freq, left=left, right=right))\n",
    "\n",
    "    return nodes[0]\n",
    "\n",
    "def build_code_table(root):\n",
    "    codes = {}\n",
    "    def build_code(node, code=''):\n",
    "        if node.is_leaf():\n",
    "            codes[node.letter] = code\n",
    "        else:\n",
    "            build_code(node.left, code + '0')\n",
    "            build_code(node.right, code + '1')\n",
    "    \n",
    "    build_code(root)\n",
    "    return codes\n",
    "\n",
    "def encode_static(text, root=None):\n",
    "    if root is None:\n",
    "        root = build_tree(text)\n",
    "\n",
    "    code_table = build_code_table(root)\n",
    "    encoded = bitarray()\n",
    "    for letter in text:\n",
    "        encoded.extend(code_table[letter])\n",
    "    return encoded\n",
    "\n",
    "def decode_static(code, root):\n",
    "    decoded = []\n",
    "    node = root\n",
    "\n",
    "    for bit in code:\n",
    "        if bit:\n",
    "            node = node.right\n",
    "        else:\n",
    "            node = node.left\n",
    "\n",
    "        if node.is_leaf():\n",
    "            decoded.append(node.letter)\n",
    "            node = root\n",
    "\n",
    "    return ''.join(decoded)"
   ]
  },
  {
   "cell_type": "code",
   "execution_count": 5,
   "metadata": {},
   "outputs": [],
   "source": [
    "def encode_adaptive(text):\n",
    "    ...\n",
    "\n",
    "def decode_adaptive(code):\n",
    "    ...\n"
   ]
  },
  {
   "cell_type": "code",
   "execution_count": 6,
   "metadata": {},
   "outputs": [],
   "source": [
    "kB = 2**10\n",
    "MB = 2**20\n",
    "\n",
    "dir = './input_files'\n",
    "\n",
    "def delete_files():\n",
    "    for file_name in os.listdir(dir):\n",
    "        file_path = os.path.join(dir, file_name)\n",
    "        if os.path.isfile(file_path):\n",
    "            os.remove(file_path)"
   ]
  },
  {
   "cell_type": "code",
   "execution_count": 7,
   "metadata": {},
   "outputs": [],
   "source": [
    "guttenberg_file = './source_files/guttenberg.txt'\n",
    "linux_file = './source_files/linux.txt'\n",
    "\n",
    "def create_partial_file(input_file_name, output_file_name, size):\n",
    "    with open(input_file_name, 'rb') as input_file, open(output_file_name, 'wb') as output_file:\n",
    "        output_file.write(input_file.read(size))\n",
    "\n",
    "gutenberg_files = [('gutenberg_1kB.txt', 1 * kB), ('gutenberg_10kB.txt', 10 * kB), ('gutenberg_100kB.txt', 100 * kB), ('gutenberg_1MB.txt', 1 * MB)]\n",
    "linux_files = [('linux_1kB.txt', 1 * kB), ('linux_10kB.txt', 10 * kB), ('linux_100kB.txt', 100 * kB), ('linux_1MB.txt', 1 * MB)]\n",
    "\n",
    "for file_name, size in gutenberg_files:\n",
    "    create_partial_file(guttenberg_file, os.path.join(dir, file_name), size)\n",
    "\n",
    "for file_name, size in linux_files:\n",
    "    create_partial_file(linux_file, os.path.join(dir, file_name), size)"
   ]
  },
  {
   "cell_type": "code",
   "execution_count": 8,
   "metadata": {},
   "outputs": [],
   "source": [
    "files = [(\"random_1kB.txt\", 1*kB), (\"random_10kB.txt\", 10*kB), (\"random_100kB.txt\", 100*kB), (\"random_1MB.txt\", 1*MB)]\n",
    "\n",
    "def generate_random_files():\n",
    "    for name, size in files:\n",
    "        path = dir + '/' + name\n",
    "        with open(path, 'wb') as f:\n",
    "            f.write(bytes(random.randint(0, 255) for _ in range(size)))\n",
    "        f.close()\n",
    "\n",
    "generate_random_files()"
   ]
  },
  {
   "cell_type": "code",
   "execution_count": 26,
   "metadata": {},
   "outputs": [
    {
     "name": "stdout",
     "output_type": "stream",
     "text": [
      "COMPRASSION RATIO\n",
      "                     static adaptive\n",
      "gutenberg_100kB.txt  42.88%     None\n",
      "gutenberg_10kB.txt   42.14%     None\n",
      "gutenberg_1kB.txt    39.55%     None\n",
      "gutenberg_1MB.txt    43.24%     None\n",
      "linux_100kB.txt      37.59%     None\n",
      "linux_10kB.txt       37.94%     None\n",
      "linux_1kB.txt        36.43%     None\n",
      "linux_1MB.txt        37.55%     None\n",
      "random_100kB.txt     49.33%     None\n",
      "random_10kB.txt      50.06%     None\n",
      "random_1kB.txt       50.88%     None\n",
      "random_1MB.txt       49.11%     None \n",
      "\n",
      "TIME\n",
      "                       st_enc ad_enc    st_dec ad_dec\n",
      "gutenberg_100kB.txt  0.022624   None  0.079132   None\n",
      "gutenberg_10kB.txt   0.002005   None  0.007566   None\n",
      "gutenberg_1kB.txt    0.000000   None  0.001004   None\n",
      "gutenberg_1MB.txt    0.159406   None  0.669312   None\n",
      "linux_100kB.txt      0.017010   None  0.075776   None\n",
      "linux_10kB.txt       0.001000   None  0.006061   None\n",
      "linux_1kB.txt        0.000000   None  0.001027   None\n",
      "linux_1MB.txt        0.162879   None  0.695429   None\n",
      "random_100kB.txt     0.011510   None  0.054173   None\n",
      "random_10kB.txt      0.001507   None  0.006116   None\n",
      "random_1kB.txt       0.000000   None  0.000000   None\n",
      "random_1MB.txt       0.113968   None  0.572086   None\n"
     ]
    }
   ],
   "source": [
    "save_path = './output_files'\n",
    "list_dir = os.listdir(dir)\n",
    "\n",
    "def test():\n",
    "    compression_res = []\n",
    "    time_res = []\n",
    "    for file_name in list_dir:\n",
    "        # static\n",
    "        with open(os.path.join(dir, file_name), 'rb') as f_in:\n",
    "            bytes_data = f_in.read()\n",
    "            text = bytes_data.decode('utf-8', errors='ignore')\n",
    "\n",
    "            huffman = build_tree(text)\n",
    "            start = time()\n",
    "            encoded = encode_static(text, huffman)\n",
    "            end = time()\n",
    "            st_enc_time = end - start\n",
    "            with open(os.path.join(save_path, 'static_' + file_name), 'wb') as f_out:\n",
    "                encoded.tofile(f_out)\n",
    "            f_out.close()\n",
    "\n",
    "            start = time()\n",
    "            decoded = decode_static(encoded, huffman)\n",
    "            end = time()\n",
    "            st_dec_time = end - start\n",
    "            if decoded != text:\n",
    "                print('error')\n",
    "\n",
    "            compression_ratio_st = f'{(1 - os.path.getsize(os.path.join(save_path, \"static_\" + file_name)) / os.path.getsize(os.path.join(dir, file_name))) * 100:.2f}%'\n",
    "        f_in.close()\n",
    "\n",
    "        # adaptive\n",
    "\n",
    "        compression_ratio_ad = None\n",
    "        ad_enc_time = None\n",
    "        ad_dec_time = None\n",
    "\n",
    "        compression_res.append((compression_ratio_st, compression_ratio_ad))\n",
    "        time_res.append((st_enc_time, ad_enc_time, st_dec_time, ad_dec_time))\n",
    "    return compression_res, time_res\n",
    "\n",
    "\n",
    "comp_result, time_res = test()\n",
    "comp_df = pd.DataFrame(comp_result, columns=['static', 'adaptive'], index=list_dir)\n",
    "time_df = pd.DataFrame(time_res, columns=['st_enc', 'ad_enc', 'st_dec', 'ad_dec'], index=list_dir)\n",
    "\n",
    "print(\"COMPRASSION RATIO\")\n",
    "print(comp_df, '\\n')\n",
    "print(\"TIME\")\n",
    "print(time_df)"
   ]
  },
  {
   "cell_type": "code",
   "execution_count": null,
   "metadata": {},
   "outputs": [],
   "source": []
  },
  {
   "cell_type": "code",
   "execution_count": null,
   "metadata": {},
   "outputs": [],
   "source": []
  }
 ],
 "metadata": {
  "kernelspec": {
   "display_name": "Python 3",
   "language": "python",
   "name": "python3"
  },
  "language_info": {
   "codemirror_mode": {
    "name": "ipython",
    "version": 3
   },
   "file_extension": ".py",
   "mimetype": "text/x-python",
   "name": "python",
   "nbconvert_exporter": "python",
   "pygments_lexer": "ipython3",
   "version": "3.10.10"
  },
  "orig_nbformat": 4,
  "vscode": {
   "interpreter": {
    "hash": "7c81ba42a10319831472493c4e35f72547dcc7ff182d090ffb5cf74b554f8dbd"
   }
  }
 },
 "nbformat": 4,
 "nbformat_minor": 2
}
